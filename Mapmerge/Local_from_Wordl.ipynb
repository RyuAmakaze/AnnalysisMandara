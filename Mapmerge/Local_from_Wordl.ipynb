{
 "cells": [
  {
   "cell_type": "code",
   "execution_count": 1,
   "metadata": {},
   "outputs": [],
   "source": [
    "# Yu Yamaoka\n",
    "# Mapmergeの結果と真値を比べる用\n",
    "# 2点の絶対座標をDH01側を原点に持って行ってDH02の相対座標を出力．\n",
    "\n",
    "# 元データ\n",
    "data = {\n",
    "    \"hokuyo_DH01\": {\n",
    "        \"name\": \"hokuyo_DH01\",\n",
    "        \"transform\": {\n",
    "            \"translation\": {\n",
    "                \"x\": -4.971838,\n",
    "                \"y\": 2.532697,\n",
    "                \"z\": 2.625865\n",
    "            },\n",
    "            \"rotation\": {\n",
    "                \"x\": 0.6862882,\n",
    "                \"y\": -0.7019719,\n",
    "                \"z\": -0.1186606,\n",
    "                \"w\": -0.1488747\n",
    "            }\n",
    "        }\n",
    "    },\n",
    "    \"hokuyo_DH02\": {\n",
    "        \"name\": \"hokuyo_DH02\",\n",
    "        \"transform\": {\n",
    "            \"translation\": {\n",
    "                \"x\": -6.381519,\n",
    "                \"y\": 0.9306186,\n",
    "                \"z\": 2.64787\n",
    "            },\n",
    "            \"rotation\": {\n",
    "                \"x\": -0.03898838,\n",
    "                \"y\": 0.9796259,\n",
    "                \"z\": 0.01195855,\n",
    "                \"w\": 0.1966468\n",
    "            }\n",
    "        }\n",
    "    }\n",
    "}"
   ]
  },
  {
   "attachments": {},
   "cell_type": "markdown",
   "metadata": {},
   "source": [
    "# hokuyo_DH01の座標系からhokuyo_DH02の座標系への変換を計算"
   ]
  },
  {
   "cell_type": "code",
   "execution_count": 2,
   "metadata": {},
   "outputs": [
    {
     "name": "stdout",
     "output_type": "stream",
     "text": [
      "Relative translation: [-10.42339928   5.39061005  -0.64733892]\n",
      "Relative rotation: [0.69160732 0.67812053 0.00503241 0.24860919]\n"
     ]
    }
   ],
   "source": [
    "#DH01\n",
    "import numpy as np\n",
    "from pyquaternion import Quaternion\n",
    "# hokuyo_DH01の変換行列\n",
    "\n",
    "t01 = np.eye(4)\n",
    "t01[:3, 3] = np.array([data[\"hokuyo_DH01\"][\"transform\"][\"translation\"][axis] for axis in \"xyz\"])\n",
    "q01 = Quaternion(\n",
    "    np.array([data[\"hokuyo_DH01\"][\"transform\"][\"rotation\"][axis] for axis in \"xyzw\"])\n",
    ")\n",
    "t01[:3, :3] = q01.rotation_matrix\n",
    "\n",
    "# hokuyo_DH01の新しい変換行列（回転行列が単位行列、平行移動量が0）\n",
    "new_t01 = np.eye(4)\n",
    "\n",
    "# hokuyo_DH02の変換行列\n",
    "t02 = np.eye(4)\n",
    "t02[:3, 3] = np.array([data[\"hokuyo_DH02\"][\"transform\"][\"translation\"][axis] for axis in \"xyz\"])\n",
    "q02 = Quaternion(\n",
    "    np.array([data[\"hokuyo_DH02\"][\"transform\"][\"rotation\"][axis] for axis in \"xyzw\"])\n",
    ")\n",
    "t02[:3, :3] = q02.rotation_matrix\n",
    "\n",
    "# hokuyo_DH02の新しい変換行列（hokuyo_DH01の新しい変換行列の逆行列を乗じたもの）\n",
    "new_t02 = np.linalg.inv(new_t01) @ t01 @ t02\n",
    "\n",
    "# hokuyo_DH02の相対座標\n",
    "relative_translation = new_t02[:3, 3]\n",
    "relative_rotation = Quaternion(matrix=new_t02[:3, :3])\n",
    "\n",
    "print(\"Relative translation:\", relative_translation)\n",
    "print(\"Relative rotation:\", relative_rotation.elements)"
   ]
  },
  {
   "cell_type": "code",
   "execution_count": null,
   "metadata": {},
   "outputs": [],
   "source": []
  }
 ],
 "metadata": {
  "kernelspec": {
   "display_name": "base",
   "language": "python",
   "name": "python3"
  },
  "language_info": {
   "codemirror_mode": {
    "name": "ipython",
    "version": 3
   },
   "file_extension": ".py",
   "mimetype": "text/x-python",
   "name": "python",
   "nbconvert_exporter": "python",
   "pygments_lexer": "ipython3",
   "version": "3.9.7"
  },
  "orig_nbformat": 4
 },
 "nbformat": 4,
 "nbformat_minor": 2
}
