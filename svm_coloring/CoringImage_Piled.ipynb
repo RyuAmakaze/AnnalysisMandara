{
 "cells": [
  {
   "attachments": {},
   "cell_type": "markdown",
   "metadata": {},
   "source": [
    "PATH 関数　定義"
   ]
  },
  {
   "cell_type": "code",
   "execution_count": 58,
   "metadata": {},
   "outputs": [],
   "source": [
    "CropDataset_path = \"Crop_Data/TEST_tuning_40_Crop64\" #色つけ対象データセット\n",
    "original_image_path = \"/a/yu-yamaoka/data/valid0724_2/\" #patch前のデータセット\n",
    "experiment_path = \"/a/yu-yamaoka/Scientific_reports/Crop_Data/TEST_tuning_40_Crop64/experiment\" #class label有\n",
    "\n",
    "from cellpose import models, io\n",
    "import matplotlib.pyplot as plt\n",
    "import numpy as np\n",
    "import os\n",
    "from glob import glob\n",
    "import cv2\n",
    "\n",
    "# DEFINE CELLPOSE MODEL\n",
    "# model_type='cyto' or model_type='nuclei'\n",
    "def img_to_cellpose(img_path, model_type= 'cyto', chan=[0,0], min_size=40, gpu_enabled = False, model_path = \"\"):\n",
    "    \"\"\"\n",
    "    Input:\n",
    "        img_path : (string) Image file PATH\n",
    "    Return:\n",
    "        mask : [width, height]\n",
    "    Args:\n",
    "        model_type : https://github.com/MouseLand/cellpose/blob/main/cellpose/models.py#L19~L20\n",
    "        chan : https://github.com/MouseLand/cellpose/blob/main/cellpose/models.py#L209\n",
    "        min_size : https://github.com/MouseLand/cellpose/blob/main/cellpose/models.py#L175\n",
    "        gpu_enabled : Are u install cuda?\n",
    "        model_path : FineTuning model Path\n",
    "    \"\"\"\n",
    "    assert os.path.exists(img_path), (\"image path is NOT exist\")\n",
    "    img = io.imread(img_path)\n",
    "    \n",
    "    # declare model\n",
    "    if model_path != \"\":\n",
    "        assert os.path.exists(model_path), (\"model path is NOT exist\")\n",
    "        model = models.CellposeModel(gpu=gpu_enabled, pretrained_model=model_path)\n",
    "        mask, _, _ = model.eval(img, diameter=None, channels=chan, min_size=min_size)\n",
    "    else:\n",
    "        model = models.Cellpose(gpu=gpu_enabled, model_type=model_type)\n",
    "        mask, flows, styles, diams = model.eval(img, diameter=None, channels=chan, min_size=min_size)\n",
    "\n",
    "    # save results so you can load in gui\n",
    "    #io.masks_flows_to_seg(img, masks, flows, diams, img_path, chan)\n",
    "\n",
    "    #save results as png\n",
    "    #plt.imsave(img_path.replace(\".png\",\"CellposeMask.png\"),masks)\n",
    "\n",
    "    return mask\n",
    "\n",
    "#mask画像をMaskRCNNが読み込めるデータセットにする。\n",
    "def obj_detection(mask, class_id:int):\n",
    "    \"\"\"\n",
    "    Input:\n",
    "        mask : [width, height](ndarray), image data\n",
    "        class_id : int , class id(ex : 1day -> 1)\n",
    "    Return:\n",
    "        mask : [width(int), height(int), object num(int)]\n",
    "        cls_idxs : [nobject num(int)]\n",
    "    \"\"\"\n",
    "    data = mask\n",
    "    labels = []\n",
    "    for label in np.unique(data):\n",
    "        #: ラベルID==0は背景\n",
    "        if label == 0:\n",
    "            continue\n",
    "        else:\n",
    "            labels.append(label)\n",
    "\n",
    "    if len(labels) == 0:\n",
    "        #: 対象オブジェクトがない場合はNone\n",
    "        return None, None\n",
    "    else:\n",
    "        mask = np.zeros((mask.shape)+(len(labels),), dtype=np.uint8)\n",
    "        for n, label in enumerate(labels):\n",
    "            mask[:, :, n] = np.uint8(data == label)\n",
    "        cls_idxs = np.ones([mask.shape[-1]], dtype=np.int32) * class_id\n",
    "\n",
    "        return mask, cls_idxs"
   ]
  },
  {
   "attachments": {},
   "cell_type": "markdown",
   "metadata": {},
   "source": [
    "512, 512, 3 -> n, 512, 512 -> 512, 512, 3"
   ]
  },
  {
   "cell_type": "code",
   "execution_count": 65,
   "metadata": {},
   "outputs": [
    {
     "name": "stderr",
     "output_type": "stream",
     "text": [
      "Clipping input data to the valid range for imshow with RGB data ([0..1] for floats or [0..255] for integers).\n"
     ]
    },
    {
     "ename": "KeyboardInterrupt",
     "evalue": "",
     "output_type": "error",
     "traceback": [
      "\u001b[0;31m---------------------------------------------------------------------------\u001b[0m",
      "\u001b[0;31mKeyboardInterrupt\u001b[0m                         Traceback (most recent call last)",
      "\u001b[0;32m<ipython-input-65-6311c64a9185>\u001b[0m in \u001b[0;36m<module>\u001b[0;34m\u001b[0m\n\u001b[1;32m     44\u001b[0m                 \u001b[0;32mfor\u001b[0m \u001b[0ml\u001b[0m \u001b[0;32min\u001b[0m \u001b[0mrange\u001b[0m\u001b[0;34m(\u001b[0m\u001b[0mh\u001b[0m\u001b[0;34m)\u001b[0m\u001b[0;34m:\u001b[0m\u001b[0;34m\u001b[0m\u001b[0;34m\u001b[0m\u001b[0m\n\u001b[1;32m     45\u001b[0m                     \u001b[0;32mif\u001b[0m\u001b[0;34m(\u001b[0m\u001b[0mmask\u001b[0m\u001b[0;34m[\u001b[0m\u001b[0mk\u001b[0m\u001b[0;34m,\u001b[0m \u001b[0ml\u001b[0m\u001b[0;34m]\u001b[0m\u001b[0;34m>=\u001b[0m\u001b[0;36m1\u001b[0m\u001b[0;34m)\u001b[0m\u001b[0;34m:\u001b[0m\u001b[0;34m\u001b[0m\u001b[0;34m\u001b[0m\u001b[0m\n\u001b[0;32m---> 46\u001b[0;31m                         \u001b[0mcolor_mask\u001b[0m\u001b[0;34m[\u001b[0m\u001b[0mk\u001b[0m\u001b[0;34m,\u001b[0m \u001b[0ml\u001b[0m\u001b[0;34m,\u001b[0m \u001b[0;34m:\u001b[0m\u001b[0;34m]\u001b[0m \u001b[0;34m=\u001b[0m \u001b[0mcls_color\u001b[0m\u001b[0;34m[\u001b[0m\u001b[0mint\u001b[0m\u001b[0;34m(\u001b[0m\u001b[0mcls_idxs\u001b[0m\u001b[0;34m[\u001b[0m\u001b[0mi\u001b[0m\u001b[0;34m]\u001b[0m\u001b[0;34m)\u001b[0m\u001b[0;34m]\u001b[0m\u001b[0;34m\u001b[0m\u001b[0;34m\u001b[0m\u001b[0m\n\u001b[0m\u001b[1;32m     47\u001b[0m             \u001b[0mfinal_img\u001b[0m \u001b[0;34m+=\u001b[0m \u001b[0mcolor_mask\u001b[0m\u001b[0;34m\u001b[0m\u001b[0;34m\u001b[0m\u001b[0m\n\u001b[1;32m     48\u001b[0m             \u001b[0mi\u001b[0m \u001b[0;34m+=\u001b[0m \u001b[0;36m1\u001b[0m\u001b[0;34m\u001b[0m\u001b[0;34m\u001b[0m\u001b[0m\n",
      "\u001b[0;31mKeyboardInterrupt\u001b[0m: "
     ]
    },
    {
     "data": {
      "image/png": "[encoded data removed]",
      "text/plain": [
       "<Figure size 288x288 with 1 Axes>"
      ]
     },
     "metadata": {
      "needs_background": "light"
     },
     "output_type": "display_data"
    }
   ],
   "source": [
    "#Parameter Define\n",
    "model_path = \"/a/yu-yamaoka/Scientific_reports/tuning_model/yamaoka0428_3\"\n",
    "model_type = 'c'#https://github.com/MouseLand/cellpose/blob/main/cellpose/models.py#L19~L20\n",
    "chan = [0,0] #チャンネル https://github.com/MouseLand/cellpose/blob/main/cellpose/models.py#L209\n",
    "min_size = 40\n",
    "days = [\"0\", \"3\", \"5\", \"7\"]\n",
    "\n",
    "#color define rgb\n",
    "red = [255, 0, 0]\n",
    "blue = [0, 0, 255]\n",
    "yellow = [255, 255, 0]\n",
    "orange = [255, 150, 0]\n",
    "cls_color = [red, blue, yellow, orange]\n",
    "\n",
    "\n",
    "#main\n",
    "savefolder = os.path.join(CropDataset_path, \"piled\")\n",
    "if(os.path.exists(savefolder)==False):\n",
    "    os.mkdir(savefolder)\n",
    "    \n",
    "cls_idxs = np.load(os.path.join(experiment_path, \"class_ids.npy\"), allow_pickle=True)\n",
    "i = 0\n",
    "    \n",
    "for day in days:\n",
    "    savefolderday = os.path.join(savefolder, \"day\"+ day)\n",
    "    if(os.path.exists(savefolderday)==False):\n",
    "        os.mkdir(savefolderday)\n",
    "        \n",
    "    original_image_daypath = os.path.join(original_image_path, day+\"day\", \"image\")\n",
    "    original_image_filepaths = glob(original_image_daypath + \"/*.png\")\n",
    "    \n",
    "    for original_file in original_image_filepaths:\n",
    "        final_img = np.ones((w, h, 3))\n",
    "        \n",
    "        mask = img_to_cellpose(original_file, model_type, chan, gpu_enabled = True, min_size=min_size, model_path=model_path)\n",
    "        masks, _ = obj_detection(mask, class_id=0)\n",
    "        mask_trans = masks.transpose(2, 0 ,1)\n",
    "        \n",
    "        #coloring\n",
    "        for obj_mask in mask_trans:\n",
    "            color_mask =  np.ones((w, h, 3))\n",
    "            w, h = obj_mask.shape\n",
    "            for k in range(w):\n",
    "                for l in range(h):\n",
    "                    if(mask[k, l]>=1):\n",
    "                        color_mask[k, l, :] = cls_color[int(cls_idxs[i])]\n",
    "            final_img += color_mask\n",
    "            i += 1\n",
    "\n",
    "        #save \n",
    "        #plt.matshow(final_img)\n",
    "        savepath = os.path.join(savefolderday, os.path.basename(original_file))        \n",
    "        cv2.imwrite(savepath, final_img)\n",
    "            "
   ]
  }
 ],
 "metadata": {
  "kernelspec": {
   "display_name": "cell",
   "language": "python",
   "name": "python3"
  },
  "language_info": {
   "codemirror_mode": {
    "name": "ipython",
    "version": 3
   },
   "file_extension": ".py",
   "mimetype": "text/x-python",
   "name": "python",
   "nbconvert_exporter": "python",
   "pygments_lexer": "ipython3",
   "version": "3.7.13"
  },
  "orig_nbformat": 4
 },
 "nbformat": 4,
 "nbformat_minor": 2
}
