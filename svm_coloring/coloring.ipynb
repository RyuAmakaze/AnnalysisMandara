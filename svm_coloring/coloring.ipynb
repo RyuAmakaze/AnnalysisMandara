{
 "cells": [
  {
   "attachments": {},
   "cell_type": "markdown",
   "metadata": {},
   "source": [
    "TESTデータの読み込み"
   ]
  },
  {
   "cell_type": "code",
   "execution_count": 3,
   "metadata": {},
   "outputs": [
    {
     "name": "stdout",
     "output_type": "stream",
     "text": [
      "(65839, 768)\n",
      "(65839,)\n"
     ]
    }
   ],
   "source": [
    "from sklearn import svm\n",
    "import numpy as np\n",
    "import torch\n",
    "import os\n",
    "\n",
    "#user define\n",
    "DINO_OUTPUT_PATH = \"experience/5_1_3232_integrated\" #DINOのOUTPUTのPATH.experienceに合流予定.\n",
    "experience_path = \"./experience/20230404\" #SVMモデル格納のPATH\n",
    "CropDataset_path = \"Crop_Data/crop_test_data64\" #色つけ対象データセット\n",
    "\n",
    "feature_data = torch.load(os.path.join(DINO_OUTPUT_PATH , \"testfeat.pth\"))\n",
    "label_data = torch.load(os.path.join(DINO_OUTPUT_PATH, \"testlabels.pth\"))\n",
    "feature_data = feature_data.to('cpu').detach().numpy().copy()\n",
    "label_data  = label_data .to('cpu').detach().numpy().copy()\n",
    "print(feature_data.shape)\n",
    "print(label_data .shape)\n",
    "\n",
    "np.save(os.path.join(DINO_OUTPUT_PATH, \"TEST_feature.npy\"), feature_data)\n",
    "np.save(os.path.join(DINO_OUTPUT_PATH, \"TEST_label.npy\"), label_data)"
   ]
  },
  {
   "attachments": {},
   "cell_type": "markdown",
   "metadata": {},
   "source": [
    "推論データ格納"
   ]
  },
  {
   "cell_type": "code",
   "execution_count": 22,
   "metadata": {},
   "outputs": [
    {
     "name": "stderr",
     "output_type": "stream",
     "text": [
      "25246it [01:57, 215.76it/s]"
     ]
    },
    {
     "name": "stdout",
     "output_type": "stream",
     "text": [
      "(25246, 4)\n"
     ]
    },
    {
     "name": "stderr",
     "output_type": "stream",
     "text": [
      "\n"
     ]
    }
   ],
   "source": [
    "import numpy as np\n",
    "import pickle\n",
    "import os\n",
    "from tqdm import tqdm\n",
    "\n",
    "filepaths = np.load(os.path.join(CropDataset_path, \"filename_path.npy\"))\n",
    "features = np.load(os.path.join(DINO_OUTPUT_PATH, \"TEST_feature.npy\"))\n",
    "labels = np.load(os.path.join(DINO_OUTPUT_PATH, \"TEST_label.npy\"))\n",
    "\n",
    "svm_values = masks = np.zeros((len(filepaths), 4))\n",
    "cls_idxs = np.zeros((len(filepaths)))\n",
    "\n",
    "if os.path.exists(experience_path)==False:\n",
    "    os.mkdir(experience_path)\n",
    "\n",
    "#model load\n",
    "with open('model/6464nu=0.1/svm_model0.pkl', 'rb') as f:\n",
    "    day0model = pickle.load(f)\n",
    "with open('model/6464nu=0.1/svm_model3.pkl', 'rb') as f:\n",
    "    day3model = pickle.load(f)\n",
    "with open('model/6464nu=0.1/svm_model5.pkl', 'rb') as f:\n",
    "    day5model = pickle.load(f)\n",
    "with open('model/6464nu=0.1/svm_model7.pkl', 'rb') as f:\n",
    "    day7model = pickle.load(f)\n",
    "\n",
    "#SVM値を計算\n",
    "for i, feature in tqdm(enumerate(features)):\n",
    "    data = feature.reshape(1, -1)\n",
    "    svm_values[i, 0] = day0model.decision_function(data)\n",
    "    svm_values[i, 1] = day3model.decision_function(data)\n",
    "    svm_values[i, 2] = day5model.decision_function(data)\n",
    "    svm_values[i, 3] = day7model.decision_function(data)\n",
    "\n",
    "    #クラス配列作成\n",
    "    cls_idxs[i] = np.argmax(svm_values[i])\n",
    "\n",
    "print(svm_values.shape)\n",
    "np.save(os.path.join(experience_path, \"svm_value.npy\"), svm_values)\n",
    "np.save(os.path.join(experience_path, \"class_ids.npy\"), cls_idxs)\n"
   ]
  },
  {
   "attachments": {},
   "cell_type": "markdown",
   "metadata": {},
   "source": [
    "色付け"
   ]
  },
  {
   "cell_type": "code",
   "execution_count": 21,
   "metadata": {},
   "outputs": [
    {
     "name": "stderr",
     "output_type": "stream",
     "text": [
      "21461it [02:54, 123.30it/s]\n"
     ]
    },
    {
     "ename": "KeyboardInterrupt",
     "evalue": "",
     "output_type": "error",
     "traceback": [
      "\u001b[0;31m---------------------------------------------------------------------------\u001b[0m",
      "\u001b[0;31mKeyboardInterrupt\u001b[0m                         Traceback (most recent call last)",
      "\u001b[0;32m<ipython-input-21-fec7c133a3e7>\u001b[0m in \u001b[0;36m<module>\u001b[0;34m\u001b[0m\n\u001b[1;32m     38\u001b[0m         \u001b[0;32mfor\u001b[0m \u001b[0ml\u001b[0m \u001b[0;32min\u001b[0m \u001b[0mrange\u001b[0m\u001b[0;34m(\u001b[0m\u001b[0mh\u001b[0m\u001b[0;34m)\u001b[0m\u001b[0;34m:\u001b[0m\u001b[0;34m\u001b[0m\u001b[0;34m\u001b[0m\u001b[0m\n\u001b[1;32m     39\u001b[0m             \u001b[0;32mif\u001b[0m\u001b[0;34m(\u001b[0m\u001b[0mmask\u001b[0m\u001b[0;34m[\u001b[0m\u001b[0mk\u001b[0m\u001b[0;34m,\u001b[0m \u001b[0ml\u001b[0m\u001b[0;34m]\u001b[0m\u001b[0;34m>=\u001b[0m\u001b[0;36m1\u001b[0m\u001b[0;34m)\u001b[0m\u001b[0;34m:\u001b[0m\u001b[0;34m\u001b[0m\u001b[0;34m\u001b[0m\u001b[0m\n\u001b[0;32m---> 40\u001b[0;31m                 \u001b[0minfe_mask\u001b[0m\u001b[0;34m[\u001b[0m\u001b[0mk\u001b[0m\u001b[0;34m,\u001b[0m \u001b[0ml\u001b[0m\u001b[0;34m,\u001b[0m \u001b[0;34m:\u001b[0m\u001b[0;34m]\u001b[0m \u001b[0;34m=\u001b[0m \u001b[0mcls_color\u001b[0m\u001b[0;34m[\u001b[0m\u001b[0mint\u001b[0m\u001b[0;34m(\u001b[0m\u001b[0mcls_idxs\u001b[0m\u001b[0;34m[\u001b[0m\u001b[0mi\u001b[0m\u001b[0;34m]\u001b[0m\u001b[0;34m)\u001b[0m\u001b[0;34m]\u001b[0m\u001b[0;34m\u001b[0m\u001b[0;34m\u001b[0m\u001b[0m\n\u001b[0m\u001b[1;32m     41\u001b[0m     \u001b[0;31m#infe_mask = np.where(mask[:, :]>=1,infe_mask[:, :, 0]=255,img[:, :, 0])\u001b[0m\u001b[0;34m\u001b[0m\u001b[0;34m\u001b[0m\u001b[0;34m\u001b[0m\u001b[0m\n\u001b[1;32m     42\u001b[0m \u001b[0;34m\u001b[0m\u001b[0m\n",
      "\u001b[0;31mKeyboardInterrupt\u001b[0m: "
     ]
    }
   ],
   "source": [
    "import numpy as np\n",
    "import cv2\n",
    "import matplotlib.pyplot as plt\n",
    "import os\n",
    "from tqdm import tqdm\n",
    "\n",
    "#color define rgb\n",
    "red = [255, 0, 0]\n",
    "blue = [0, 0, 255]\n",
    "yellow = [255, 255, 0]\n",
    "orange = [255, 150, 0]\n",
    "cls_color = [red, blue, yellow, orange]\n",
    "#print(cls_color[1])\n",
    "\n",
    "\n",
    "svm_values = np.load(os.path.join(experience_path, \"svm_value.npy\"))\n",
    "cls_idxs = np.load(os.path.join(experience_path, \"class_ids.npy\"))\n",
    "filepaths = np.load(os.path.join(CropDataset_path, \"filename_path.npy\"))\n",
    "cell_mask = np.load(os.path.join(CropDataset_path, \"cellpose_output.npy\"))\n",
    "\n",
    "if(os.path.exists(os.path.join(CropDataset_path, \"coloring\"))):\n",
    "    os.mkdir(os.path.join(CropDataset_path, \"coloring\"))\n",
    "\n",
    "\n",
    "for i, file in tqdm(enumerate(filepaths)):\n",
    "    #print(filepaths[10])\n",
    "    img = cv2.imread(filepaths[i])\n",
    "    mask_anotation = cv2.imread(filepaths[i].replace(\"image\",\"mask\"))\n",
    "    mask = cell_mask[i]\n",
    "\n",
    "    #imageの上に塗りつぶす\n",
    "    #print(np.unique(mask))\n",
    "    infe_mask = cv2.imread(filepaths[i])\n",
    "    w, h = mask.shape\n",
    "    for k in range(w):\n",
    "        for l in range(h):\n",
    "            if(mask[k, l]>=1):\n",
    "                infe_mask[k, l, :] = cls_color[int(cls_idxs[i])]\n",
    "    #infe_mask = np.where(mask[:, :]>=1,infe_mask[:, :, 0]=255,img[:, :, 0])\n",
    "\n",
    "    save_folder = os.path.join(os.path.dirname(filepaths[i]).replace(\"image\",\"coloring\"))\n",
    "    if(os.path.exists(save_folder)==False):\n",
    "        os.mkdir(save_folder)\n",
    "    save_path = os.path.join(save_folder,os.path.basename(filepaths[i]))\n",
    "\n",
    "\n",
    "    cv2.imwrite(save_path, infe_mask)\n",
    "\n",
    "    ##print(svm_values[i])\n",
    "    #print(cls_idxs[i])\n",
    "    #plt.matshow(mask_anotation)\n",
    "    #plt.matshow(mask)\n",
    "    #plt.matshow(infe_mask)\n",
    "    #plt.matshow(img)\n"
   ]
  },
  {
   "cell_type": "code",
   "execution_count": 8,
   "metadata": {},
   "outputs": [
    {
     "name": "stdout",
     "output_type": "stream",
     "text": [
      "(25246,)\n"
     ]
    }
   ],
   "source": [
    "\n",
    "print(cls_idxs.shape)"
   ]
  },
  {
   "cell_type": "code",
   "execution_count": null,
   "metadata": {},
   "outputs": [],
   "source": []
  }
 ],
 "metadata": {
  "kernelspec": {
   "display_name": "cell",
   "language": "python",
   "name": "python3"
  },
  "language_info": {
   "codemirror_mode": {
    "name": "ipython",
    "version": 3
   },
   "file_extension": ".py",
   "mimetype": "text/x-python",
   "name": "python",
   "nbconvert_exporter": "python",
   "pygments_lexer": "ipython3",
   "version": "3.7.13"
  },
  "orig_nbformat": 4
 },
 "nbformat": 4,
 "nbformat_minor": 2
}
