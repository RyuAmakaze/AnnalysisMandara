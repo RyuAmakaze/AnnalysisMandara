{
 "cells": [
  {
   "cell_type": "code",
   "execution_count": 10,
   "metadata": {},
   "outputs": [],
   "source": [
    "IMG_EXTENSIONS = [\n",
    "    '.jpg', '.JPG', '.jpeg', '.JPEG',\n",
    "    '.png', '.PNG', '.ppm', '.PPM', '.bmp', '.BMP', '.tiff'\n",
    "]\n",
    "\n",
    "\n",
    "def is_image_file(filename):\n",
    "    return any(filename.endswith(extension) for extension in IMG_EXTENSIONS)\n"
   ]
  },
  {
   "cell_type": "code",
   "execution_count": 11,
   "metadata": {},
   "outputs": [
    {
     "ename": "NameError",
     "evalue": "name 'is_valid_file' is not defined",
     "output_type": "error",
     "traceback": [
      "\u001b[0;31m---------------------------------------------------------------------------\u001b[0m",
      "\u001b[0;31mNameError\u001b[0m                                 Traceback (most recent call last)",
      "Cell \u001b[0;32mIn[11], line 11\u001b[0m\n\u001b[1;32m      9\u001b[0m \u001b[39mfor\u001b[39;00m fname \u001b[39min\u001b[39;00m \u001b[39msorted\u001b[39m(fnames):\n\u001b[1;32m     10\u001b[0m     path \u001b[39m=\u001b[39m os\u001b[39m.\u001b[39mpath\u001b[39m.\u001b[39mjoin(root, fname)\n\u001b[0;32m---> 11\u001b[0m     \u001b[39mif\u001b[39;00m is_valid_file(path):\n\u001b[1;32m     12\u001b[0m         item \u001b[39m=\u001b[39m path, class_index\n\u001b[1;32m     13\u001b[0m         arr\u001b[39m.\u001b[39mappend(item)\n",
      "\u001b[0;31mNameError\u001b[0m: name 'is_valid_file' is not defined"
     ]
    }
   ],
   "source": [
    "import os\n",
    "import numpy as np\n",
    "\n",
    "target_dir =\"/a/yu-yamaoka/Scientific_reports/crop_test_data6464/image\"\n",
    "arr = [] #sorted(os.walk(target_dir, followlinks=True))\n",
    "#print(arr)\n",
    "\n",
    "for root, _, fnames in sorted(os.walk(target_dir, followlinks=True)):\n",
    "            for fname in sorted(fnames):\n",
    "                path = os.path.join(root, fname)\n",
    "                if is_image_file(path):\n",
    "                    item = path #, class_index\n",
    "                    arr.append(item)\n",
    "\n",
    "np.save(\"crop_test_data6464_name.npy\", arr)\n",
    "print(np.array(arr).shape)\n"
   ]
  }
 ],
 "metadata": {
  "kernelspec": {
   "display_name": "Python 3",
   "language": "python",
   "name": "python3"
  },
  "language_info": {
   "codemirror_mode": {
    "name": "ipython",
    "version": 3
   },
   "file_extension": ".py",
   "mimetype": "text/x-python",
   "name": "python",
   "nbconvert_exporter": "python",
   "pygments_lexer": "ipython3",
   "version": "3.8.10"
  },
  "orig_nbformat": 4,
  "vscode": {
   "interpreter": {
    "hash": "31f2aee4e71d21fbe5cf8b01ff0e069b9275f58929596ceb00d14d90e3e16cd6"
   }
  }
 },
 "nbformat": 4,
 "nbformat_minor": 2
}
