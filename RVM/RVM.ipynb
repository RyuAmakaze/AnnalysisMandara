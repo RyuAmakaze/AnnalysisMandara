{
 "cells": [
  {
   "cell_type": "markdown",
   "metadata": {},
   "source": [
    "NPYファイルを読み込みRVMで線形補間<br>\n",
    "PTHファイルを読み込みNPYに"
   ]
  },
  {
   "cell_type": "code",
   "execution_count": 1,
   "metadata": {},
   "outputs": [
    {
     "name": "stdout",
     "output_type": "stream",
     "text": [
      "torch.Size([643205, 768])\n"
     ]
    }
   ],
   "source": [
    "import numpy as np\n",
    "import os\n",
    "import torch\n",
    "\n",
    "#DINOの出力PATH\n",
    "DATASET_PATH = \"Crop_Data/256_TRAIN_ver1/TEST256_tuning40_Crop64/Integrated10\"\n",
    "\n",
    "feature_data_pth = torch.load(os.path.join(DATASET_PATH, \"trainfeat.pth\"))\n",
    "label_data_pth = torch.load(os.path.join(DATASET_PATH, \"trainlabels.pth\"))\n",
    "np.save(os.path.join(DATASET_PATH, \"trainfeat.npy\"), feature_data_pth)\n",
    "np.save(os.path.join(DATASET_PATH, \"trainlabels.npy\"), label_data_pth)\n",
    "\n",
    "feature_data_npy = np.load(os.path.join(DATASET_PATH, \"trainfeat.npy\"))\n",
    "label_data_npy = np.load(os.path.join(DATASET_PATH, \"trainlabels.npy\"))"
   ]
  },
  {
   "cell_type": "code",
   "execution_count": null,
   "metadata": {},
   "outputs": [],
   "source": []
  }
 ],
 "metadata": {
  "kernelspec": {
   "display_name": "cell",
   "language": "python",
   "name": "python3"
  },
  "language_info": {
   "codemirror_mode": {
    "name": "ipython",
    "version": 3
   },
   "file_extension": ".py",
   "mimetype": "text/x-python",
   "name": "python",
   "nbconvert_exporter": "python",
   "pygments_lexer": "ipython3",
   "version": "3.7.13"
  }
 },
 "nbformat": 4,
 "nbformat_minor": 2
}
