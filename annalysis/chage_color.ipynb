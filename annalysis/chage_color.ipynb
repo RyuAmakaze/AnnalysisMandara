{
 "cells": [
  {
   "cell_type": "code",
   "execution_count": 5,
   "metadata": {},
   "outputs": [
    {
     "name": "stdout",
     "output_type": "stream",
     "text": [
      "/a/yu-yamaoka/Scientific_reports/Crop_Data/TEST_tuning_40_Crop64/piled/day5/11CTX day5.png\n",
      "/a/yu-yamaoka/Scientific_reports/Crop_Data/TEST_tuning_40_Crop64/piled/day5/10CTX day5.png\n",
      "/a/yu-yamaoka/Scientific_reports/Crop_Data/TEST_tuning_40_Crop64/piled/day5/12CTX day5.png\n",
      "/a/yu-yamaoka/Scientific_reports/Crop_Data/TEST_tuning_40_Crop64/piled/day5/14CTX day5.png\n",
      "/a/yu-yamaoka/Scientific_reports/Crop_Data/TEST_tuning_40_Crop64/piled/day5/15CTX day5.png\n",
      "/a/yu-yamaoka/Scientific_reports/Crop_Data/TEST_tuning_40_Crop64/piled/day5/13CTX day5.png\n",
      "/a/yu-yamaoka/Scientific_reports/Crop_Data/TEST_tuning_40_Crop64/piled/day5/17CTX day5.png\n",
      "/a/yu-yamaoka/Scientific_reports/Crop_Data/TEST_tuning_40_Crop64/piled/day5/18CTX day5.png\n",
      "/a/yu-yamaoka/Scientific_reports/Crop_Data/TEST_tuning_40_Crop64/piled/day5/16CTX day5.png\n",
      "/a/yu-yamaoka/Scientific_reports/Crop_Data/TEST_tuning_40_Crop64/piled/day5/19CTX day5.png\n",
      "/a/yu-yamaoka/Scientific_reports/Crop_Data/TEST_tuning_40_Crop64/piled/day5/1CTX day5.png\n",
      "/a/yu-yamaoka/Scientific_reports/Crop_Data/TEST_tuning_40_Crop64/piled/day5/20CTX day5.png\n",
      "/a/yu-yamaoka/Scientific_reports/Crop_Data/TEST_tuning_40_Crop64/piled/day5/21CTX day5.png\n",
      "/a/yu-yamaoka/Scientific_reports/Crop_Data/TEST_tuning_40_Crop64/piled/day5/22CTX day5.png\n",
      "/a/yu-yamaoka/Scientific_reports/Crop_Data/TEST_tuning_40_Crop64/piled/day5/23CTX day5.png\n",
      "/a/yu-yamaoka/Scientific_reports/Crop_Data/TEST_tuning_40_Crop64/piled/day5/24CTX day5.png\n",
      "/a/yu-yamaoka/Scientific_reports/Crop_Data/TEST_tuning_40_Crop64/piled/day5/26CTX day5.png\n",
      "/a/yu-yamaoka/Scientific_reports/Crop_Data/TEST_tuning_40_Crop64/piled/day5/25CTX day5.png\n",
      "/a/yu-yamaoka/Scientific_reports/Crop_Data/TEST_tuning_40_Crop64/piled/day5/27CTX day5.png\n",
      "/a/yu-yamaoka/Scientific_reports/Crop_Data/TEST_tuning_40_Crop64/piled/day5/28CTX day5.png\n",
      "/a/yu-yamaoka/Scientific_reports/Crop_Data/TEST_tuning_40_Crop64/piled/day5/29CTX day5.png\n",
      "/a/yu-yamaoka/Scientific_reports/Crop_Data/TEST_tuning_40_Crop64/piled/day5/2CTX day5.png\n",
      "/a/yu-yamaoka/Scientific_reports/Crop_Data/TEST_tuning_40_Crop64/piled/day5/30CTX day5.png\n",
      "/a/yu-yamaoka/Scientific_reports/Crop_Data/TEST_tuning_40_Crop64/piled/day5/33CTX day5.png\n",
      "/a/yu-yamaoka/Scientific_reports/Crop_Data/TEST_tuning_40_Crop64/piled/day5/32CTX day5.png\n",
      "/a/yu-yamaoka/Scientific_reports/Crop_Data/TEST_tuning_40_Crop64/piled/day5/31CTX day5.png\n",
      "/a/yu-yamaoka/Scientific_reports/Crop_Data/TEST_tuning_40_Crop64/piled/day5/34CTX day5.png\n",
      "/a/yu-yamaoka/Scientific_reports/Crop_Data/TEST_tuning_40_Crop64/piled/day5/35CTX day5.png\n",
      "/a/yu-yamaoka/Scientific_reports/Crop_Data/TEST_tuning_40_Crop64/piled/day5/36CTX day5.png\n",
      "/a/yu-yamaoka/Scientific_reports/Crop_Data/TEST_tuning_40_Crop64/piled/day5/38CTX day5.png\n",
      "/a/yu-yamaoka/Scientific_reports/Crop_Data/TEST_tuning_40_Crop64/piled/day5/37CTX day5.png\n",
      "/a/yu-yamaoka/Scientific_reports/Crop_Data/TEST_tuning_40_Crop64/piled/day5/39CTX day5.png\n",
      "/a/yu-yamaoka/Scientific_reports/Crop_Data/TEST_tuning_40_Crop64/piled/day5/3CTX day5.png\n",
      "/a/yu-yamaoka/Scientific_reports/Crop_Data/TEST_tuning_40_Crop64/piled/day5/41CTX day5.png\n",
      "/a/yu-yamaoka/Scientific_reports/Crop_Data/TEST_tuning_40_Crop64/piled/day5/4CTX day5.png\n",
      "/a/yu-yamaoka/Scientific_reports/Crop_Data/TEST_tuning_40_Crop64/piled/day5/40CTX day5.png\n",
      "/a/yu-yamaoka/Scientific_reports/Crop_Data/TEST_tuning_40_Crop64/piled/day5/6CTX day5.png\n",
      "/a/yu-yamaoka/Scientific_reports/Crop_Data/TEST_tuning_40_Crop64/piled/day5/7CTX day5.png\n",
      "/a/yu-yamaoka/Scientific_reports/Crop_Data/TEST_tuning_40_Crop64/piled/day5/8CTX day5.png\n",
      "/a/yu-yamaoka/Scientific_reports/Crop_Data/TEST_tuning_40_Crop64/piled/day5/9CTX day5.png\n"
     ]
    }
   ],
   "source": [
    "import cv2\n",
    "import numpy as np\n",
    "from glob import glob\n",
    "import os\n",
    "\n",
    "files = glob(\"/a/yu-yamaoka/Scientific_reports/Crop_Data/TEST_tuning_40_Crop64/piled/day5/*.png\")\n",
    "\n",
    "\n",
    "def change_color(bgr):\n",
    "    #red\n",
    "    bgr[:, :, 0] = np.where((bgr[:, :, 2]==255)&(bgr[:, :, 1]!=255), 0 , bgr[:, :, 0])\n",
    "    bgr[:, :, 1] = np.where((bgr[:, :, 2]==255)&(bgr[:, :, 1]!=255), 0 , bgr[:, :, 1])\n",
    "    \n",
    "    #blue\n",
    "    bgr[:, :, 1] = np.where((bgr[:, :, 0]==255)&(bgr[:, :, 1]!=255), 0 , bgr[:, :, 1])\n",
    "    bgr[:, :, 2] = np.where((bgr[:, :, 0]==255)&(bgr[:, :, 1]!=255), 0 , bgr[:, :, 2])\n",
    "    \n",
    "    #yello\n",
    "    bgr[:, :, 0] = np.where((bgr[:, :, 2]==255)&(bgr[:, :, 1]==255)&(bgr[:, :, 0]!=255), 0 , bgr[:, :, 0])  \n",
    "    \n",
    "    bgr[:, :, 0] = np.where((bgr[:, :, 0]!=255)&(bgr[:, :, 2]!=255), 0 , bgr[:, :, 0])\n",
    "    bgr[:, :, 1] = np.where((bgr[:, :, 0]!=255)&(bgr[:, :, 2]!=255), 0 , bgr[:, :, 1])\n",
    "    bgr[:, :, 2] = np.where((bgr[:, :, 0]!=255)&(bgr[:, :, 2]!=255), 0 , bgr[:, :, 2])\n",
    "      \n",
    "    return bgr\n",
    "    \n",
    "\n",
    "#bgr\n",
    "for file in files:\n",
    "    print(file)\n",
    "    bgr = cv2.imread(file)\n",
    "    bgr = change_color(bgr)\n",
    "    cv2.imwrite(os.path.join(\"./\", os.path.basename(file)), bgr)"
   ]
  },
  {
   "cell_type": "code",
   "execution_count": 9,
   "metadata": {},
   "outputs": [
    {
     "name": "stdout",
     "output_type": "stream",
     "text": [
      "[162 163 255]\n",
      "[162 163]\n",
      "[162 163 255]\n"
     ]
    }
   ],
   "source": [
    "bgr = cv2.imread(\"/a/yu-yamaoka/Scientific_reports/Crop_Data/TEST_tuning_40_Crop64/piled/day0/19CTX day14.png\")\n",
    "\n",
    "\n",
    "\n",
    "print(np.unique(bgr[:,:,0]))\n",
    "print(np.unique(bgr[:,:,1]))\n",
    "print(np.unique(bgr[:,:,2]))"
   ]
  },
  {
   "cell_type": "code",
   "execution_count": null,
   "metadata": {},
   "outputs": [],
   "source": []
  }
 ],
 "metadata": {
  "kernelspec": {
   "display_name": "cell",
   "language": "python",
   "name": "python3"
  },
  "language_info": {
   "codemirror_mode": {
    "name": "ipython",
    "version": 3
   },
   "file_extension": ".py",
   "mimetype": "text/x-python",
   "name": "python",
   "nbconvert_exporter": "python",
   "pygments_lexer": "ipython3",
   "version": "3.7.13"
  },
  "orig_nbformat": 4
 },
 "nbformat": 4,
 "nbformat_minor": 2
}
