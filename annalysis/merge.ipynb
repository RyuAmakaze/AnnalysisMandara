{
 "cells": [
  {
   "cell_type": "code",
   "execution_count": 21,
   "metadata": {},
   "outputs": [
    {
     "name": "stdout",
     "output_type": "stream",
     "text": [
      "42\n",
      "['/a/yu-yamaoka/Scientific_reports/Annalysis/day5/1CTX day5.png', '/a/yu-yamaoka/Scientific_reports/Annalysis/day5/2CTX day5.png', '/a/yu-yamaoka/Scientific_reports/Annalysis/day5/3CTX day5.png', '/a/yu-yamaoka/Scientific_reports/Annalysis/day5/4CTX day5.png', '/a/yu-yamaoka/Scientific_reports/Annalysis/day5/5CTX day5.png', '/a/yu-yamaoka/Scientific_reports/Annalysis/day5/6CTX day5.png', '/a/yu-yamaoka/Scientific_reports/Annalysis/day5/7CTX day5.png', '/a/yu-yamaoka/Scientific_reports/Annalysis/day5/8CTX day5.png', '/a/yu-yamaoka/Scientific_reports/Annalysis/day5/9CTX day5.png', '/a/yu-yamaoka/Scientific_reports/Annalysis/day5/10CTX day5.png', '/a/yu-yamaoka/Scientific_reports/Annalysis/day5/11CTX day5.png', '/a/yu-yamaoka/Scientific_reports/Annalysis/day5/12CTX day5.png', '/a/yu-yamaoka/Scientific_reports/Annalysis/day5/13CTX day5.png', '/a/yu-yamaoka/Scientific_reports/Annalysis/day5/14CTX day5.png', '/a/yu-yamaoka/Scientific_reports/Annalysis/day5/15CTX day5.png', '/a/yu-yamaoka/Scientific_reports/Annalysis/day5/16CTX day5.png', '/a/yu-yamaoka/Scientific_reports/Annalysis/day5/17CTX day5.png', '/a/yu-yamaoka/Scientific_reports/Annalysis/day5/18CTX day5.png', '/a/yu-yamaoka/Scientific_reports/Annalysis/day5/19CTX day5.png', '/a/yu-yamaoka/Scientific_reports/Annalysis/day5/20CTX day5.png', '/a/yu-yamaoka/Scientific_reports/Annalysis/day5/21CTX day5.png', '/a/yu-yamaoka/Scientific_reports/Annalysis/day5/22CTX day5.png', '/a/yu-yamaoka/Scientific_reports/Annalysis/day5/23CTX day5.png', '/a/yu-yamaoka/Scientific_reports/Annalysis/day5/24CTX day5.png', '/a/yu-yamaoka/Scientific_reports/Annalysis/day5/25CTX day5.png', '/a/yu-yamaoka/Scientific_reports/Annalysis/day5/26CTX day5.png', '/a/yu-yamaoka/Scientific_reports/Annalysis/day5/27CTX day5.png', '/a/yu-yamaoka/Scientific_reports/Annalysis/day5/28CTX day5.png', '/a/yu-yamaoka/Scientific_reports/Annalysis/day5/29CTX day5.png', '/a/yu-yamaoka/Scientific_reports/Annalysis/day5/30CTX day5.png', '/a/yu-yamaoka/Scientific_reports/Annalysis/day5/31CTX day5.png', '/a/yu-yamaoka/Scientific_reports/Annalysis/day5/32CTX day5.png', '/a/yu-yamaoka/Scientific_reports/Annalysis/day5/33CTX day5.png', '/a/yu-yamaoka/Scientific_reports/Annalysis/day5/34CTX day5.png', '/a/yu-yamaoka/Scientific_reports/Annalysis/day5/35CTX day5.png', '/a/yu-yamaoka/Scientific_reports/Annalysis/day5/36CTX day5.png', '/a/yu-yamaoka/Scientific_reports/Annalysis/day5/37CTX day5.png', '/a/yu-yamaoka/Scientific_reports/Annalysis/day5/38CTX day5.png', '/a/yu-yamaoka/Scientific_reports/Annalysis/day5/39CTX day5.png', '/a/yu-yamaoka/Scientific_reports/Annalysis/day5/40CTX day5.png', '/a/yu-yamaoka/Scientific_reports/Annalysis/day5/41CTX day5.png', '/a/yu-yamaoka/Scientific_reports/Annalysis/day5/result.png']\n",
      "(3072, 3072, 3)\n",
      "[  0 255]\n",
      "[  0 255]\n",
      "[  0 255]\n"
     ]
    }
   ],
   "source": [
    "# 画像結合  comb.py\n",
    "import cv2\n",
    "import glob\n",
    "import numpy as np\n",
    "from PIL import Image\n",
    "from natsort import natsorted\n",
    "import os\n",
    "\n",
    "# 所定のフォルダ内にある jpg ファイルを連続で読み込んでリスト化する\n",
    "PATH  = \"/a/yu-yamaoka/Scientific_reports/Annalysis/day5\"\n",
    "files = glob.glob(os.path.join(PATH, \"*.png\"))\n",
    "print(len(files))\n",
    "\n",
    "# 空のリストを準備\n",
    "d = []\n",
    "print(natsorted(files))\n",
    "\n",
    "# natsortedで自然順（ファイル番号の小さい順）に1個づつ読み込む\n",
    "for i in natsorted(files):\n",
    "    img = Image.open(i)    # img は'JpegImageFile' object\n",
    "    img = np.asarray(img)  # np.asarrayで img を ndarray に変換\n",
    "    d.append(img)          # d にappend で img を追加\n",
    "\n",
    "# 画像の高さ方向と幅方向を結合\n",
    "img_x = np.vstack((np.hstack(d[0:6]),\n",
    "                   np.hstack(d[6:12]),\n",
    "                   np.hstack(d[12:18]),\n",
    "                   np.hstack(d[18:24]),\n",
    "                   np.hstack(d[24:30]),\n",
    "                   np.hstack(d[30:36]),\n",
    "                   np.hstack(d[36:42])\n",
    "                  ))\n",
    "\n",
    "#img_x = np.vstack((np.hstack(d[0:7]),\n",
    "#                   np.hstack(d[7:14]),\n",
    "#                   np.hstack(d[14:21]),\n",
    "#                   np.hstack(d[21:28]),\n",
    " #                  np.hstack(d[28:35]),\n",
    " #                 ))\n",
    "\n",
    "# 色をBGR から RGB に変更\n",
    "img_x = cv2.cvtColor(img_x, cv2.COLOR_BGR2RGB)\n",
    "img_np = np.array(img_x)\n",
    "width, height, _ = img_np.shape\n",
    "print(img_np.shape)\n",
    "\n",
    "print(np.unique(img_np[:,:,:]))\n",
    "print(np.unique(img_np[:,:,1]))\n",
    "print(np.unique(img_np[:,:,2]))\n",
    "for w in range(width):\n",
    "    for h in range(height):\n",
    "        if(img_np[w, h, 0]==0)&(img_np[w, h, 1]==0)&(img_np[w, h, 2]==0):\n",
    "            img_np[w, h, 0] = 255\n",
    "            img_np[w, h, 1] = 255\n",
    "            img_np[w, h, 2] = 255\n",
    "\n",
    "\n",
    "#cv2.imshow('img_after', img_x)\n",
    "cv2.imwrite(os.path.join(PATH, \"result.png\"), img_np)"
   ]
  },
  {
   "cell_type": "code",
   "execution_count": null,
   "metadata": {},
   "outputs": [],
   "source": []
  }
 ],
 "metadata": {
  "kernelspec": {
   "display_name": "cell",
   "language": "python",
   "name": "python3"
  },
  "language_info": {
   "codemirror_mode": {
    "name": "ipython",
    "version": 3
   },
   "file_extension": ".py",
   "mimetype": "text/x-python",
   "name": "python",
   "nbconvert_exporter": "python",
   "pygments_lexer": "ipython3",
   "version": "3.7.13"
  },
  "orig_nbformat": 4
 },
 "nbformat": 4,
 "nbformat_minor": 2
}
