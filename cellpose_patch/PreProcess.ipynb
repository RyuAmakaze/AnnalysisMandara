{
 "cells": [
  {
   "attachments": {},
   "cell_type": "markdown",
   "metadata": {},
   "source": [
    "データ前処理用　PCAによる情報圧縮"
   ]
  },
  {
   "cell_type": "code",
   "execution_count": 10,
   "metadata": {},
   "outputs": [],
   "source": [
    "data_path = \"Raw_feature_data/64_Test_0411/feature.npy\"\n",
    "n_components = 2  # 圧縮後の次元数\n",
    "\n",
    "import numpy as np\n",
    "from sklearn.decomposition import PCA\n",
    "import os\n",
    "\n",
    "# データの読み込み\n",
    "data = np.load(data_path)\n",
    "\n",
    "# PCAによる次元圧縮\n",
    "pca = PCA(n_components=n_components)\n",
    "compressed_data = pca.fit_transform(data)\n",
    "\n",
    "# 圧縮後のデータを保存\n",
    "save_dir_path = os.path.dirname(data_path)\n",
    "save_path = os.path.join(save_dir_path , 'feture_compressed' +str(n_components) + '.npy')\n",
    "np.save(save_path, compressed_data)\n"
   ]
  },
  {
   "attachments": {},
   "cell_type": "markdown",
   "metadata": {},
   "source": [
    "PTH→NPY"
   ]
  },
  {
   "cell_type": "code",
   "execution_count": 4,
   "metadata": {},
   "outputs": [
    {
     "name": "stdout",
     "output_type": "stream",
     "text": [
      "['Raw_feature_data/64_Train_0412/trainfeat.pth', 'Raw_feature_data/64_Train_0412/trainlabels.pth', 'Raw_feature_data/64_Train_0412/testfeat.pth', 'Raw_feature_data/64_Train_0412/testlabels.pth']\n",
      "Raw_feature_data/trainfeat.npy\n",
      "Raw_feature_data/trainlabels.npy\n",
      "Raw_feature_data/testfeat.npy\n",
      "Raw_feature_data/testlabels.npy\n"
     ]
    }
   ],
   "source": [
    "from glob import glob\n",
    "import os\n",
    "import torch\n",
    "import numpy as np\n",
    "\n",
    "folder_path = \"Raw_feature_data/64_Train_0412\"\n",
    "files = glob(os.path.join(folder_path,\"*.pth\"))\n",
    "print(files)\n",
    "\n",
    "for file in files:\n",
    "    #PTH→NPY変換\n",
    "    pth = torch.load(file)\n",
    "    npy = pth.to('cpu').detach().numpy().copy()\n",
    "\n",
    "    save_filename = os.path.basename(file).replace(\".pth\", \".npy\")\n",
    "    savepath = os.path.join(folder_path, save_filename)\n",
    "    print(savepath)\n",
    "    np.save(savepath, npy)"
   ]
  },
  {
   "attachments": {},
   "cell_type": "markdown",
   "metadata": {},
   "source": [
    "UMAPで可視化"
   ]
  },
  {
   "cell_type": "code",
   "execution_count": null,
   "metadata": {},
   "outputs": [],
   "source": []
  }
 ],
 "metadata": {
  "kernelspec": {
   "display_name": "cell",
   "language": "python",
   "name": "python3"
  },
  "language_info": {
   "codemirror_mode": {
    "name": "ipython",
    "version": 3
   },
   "file_extension": ".py",
   "mimetype": "text/x-python",
   "name": "python",
   "nbconvert_exporter": "python",
   "pygments_lexer": "ipython3",
   "version": "3.7.13"
  },
  "orig_nbformat": 4
 },
 "nbformat": 4,
 "nbformat_minor": 2
}
