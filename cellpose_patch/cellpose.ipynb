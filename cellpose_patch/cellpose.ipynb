{
 "cells": [
  {
   "cell_type": "code",
   "execution_count": 6,
   "metadata": {},
   "outputs": [],
   "source": [
    "#Function Define\n",
    "from cellpose import models, io\n",
    "import numpy as np\n",
    "import os\n",
    "\n",
    "# DEFINE CELLPOSE MODEL\n",
    "# model_type='cyto' or model_type='nuclei'\n",
    "def img_to_cellpose(img_path, model_type= 'cyto', chan=[0,0], min_size=40, gpu_enabled = False, model_path = \"\"):\n",
    "    \"\"\"\n",
    "    Input:\n",
    "        img_path : (string) Image file PATH\n",
    "    Return:\n",
    "        mask : [width, height]\n",
    "    Args:\n",
    "        model_type : https://github.com/MouseLand/cellpose/blob/main/cellpose/models.py#L19~L20\n",
    "        chan : https://github.com/MouseLand/cellpose/blob/main/cellpose/models.py#L209\n",
    "        min_size : https://github.com/MouseLand/cellpose/blob/main/cellpose/models.py#L175\n",
    "        gpu_enabled : Are u install cuda?\n",
    "        model_path : FineTuning model Path\n",
    "    \"\"\"\n",
    "    assert os.path.exists(img_path), (\"image path is NOT exist\")\n",
    "    img = io.imread(img_path)\n",
    "    \n",
    "    # declare model\n",
    "    if model_path != \"\":\n",
    "        assert os.path.exists(model_path), (\"model path is NOT exist\")\n",
    "        model = models.CellposeModel(gpu=gpu_enabled, pretrained_model=model_path)\n",
    "        mask, _, _ = model.eval(img, diameter=None, channels=chan, min_size=min_size)\n",
    "    else:\n",
    "        model = models.Cellpose(gpu=gpu_enabled, model_type=model_type)\n",
    "        mask, flows, styles, diams = model.eval(img, diameter=None, channels=chan, min_size=min_size)\n",
    "\n",
    "    # save results so you can load in gui\n",
    "    #io.masks_flows_to_seg(img, masks, flows, diams, img_path, chan)\n",
    "\n",
    "    #save results as png\n",
    "    #plt.imsave(img_path.replace(\".png\",\"CellposeMask.png\"),masks)\n",
    "\n",
    "    return mask\n",
    "\n",
    "#mask画像をMaskRCNNが読み込めるデータセットにする。\n",
    "def obj_detection(mask, class_id:int):\n",
    "    \"\"\"\n",
    "    Input:\n",
    "        mask : [width, height](ndarray), image data\n",
    "        class_id : int , class id(ex : 1day -> 1)\n",
    "    Return:\n",
    "        mask : [object num(int), width(int), height(int)]\n",
    "        cls_idxs : [nobject num(int)]\n",
    "    \"\"\"\n",
    "    data = mask\n",
    "    labels = []\n",
    "    for label in np.unique(data):\n",
    "        #: ラベルID==0は背景\n",
    "        if label == 0:\n",
    "            continue\n",
    "        else:\n",
    "            labels.append(label)\n",
    "\n",
    "    if len(labels) == 0:\n",
    "        #: 対象オブジェクトがない場合はNone\n",
    "        return None, None\n",
    "    else:\n",
    "        mask = np.zeros((mask.shape)+(len(labels),), dtype=np.uint8)\n",
    "        for n, label in enumerate(labels):\n",
    "            mask[:, :, n] = np.uint8(data == label)\n",
    "        cls_idxs = np.ones([mask.shape[-1]], dtype=np.int32) * class_id\n",
    "\n",
    "        return mask.transpose(2, 0 ,1), cls_idxs"
   ]
  },
  {
   "attachments": {},
   "cell_type": "markdown",
   "metadata": {},
   "source": [
    "test"
   ]
  },
  {
   "cell_type": "code",
   "execution_count": 5,
   "metadata": {},
   "outputs": [
    {
     "data": {
      "text/plain": [
       "<matplotlib.image.AxesImage at 0x14b7493e3b90>"
      ]
     },
     "execution_count": 5,
     "metadata": {},
     "output_type": "execute_result"
    },
    {
     "data": {
      "image/png": "[encoded data removed]",
      "text/plain": [
       "<Figure size 288x288 with 1 Axes>"
      ]
     },
     "metadata": {
      "needs_background": "light"
     },
     "output_type": "display_data"
    }
   ],
   "source": [
    "import matplotlib.pyplot as plt\n",
    "path = \"test512512.png\"\n",
    "mask = img_to_cellpose(path)\n",
    "plt.matshow(mask)"
   ]
  },
  {
   "cell_type": "code",
   "execution_count": null,
   "metadata": {},
   "outputs": [],
   "source": [
    "masks = obj_detection(mask, class_id=1)\n",
    "print(masks.shape)"
   ]
  }
 ],
 "metadata": {
  "kernelspec": {
   "display_name": "cell",
   "language": "python",
   "name": "python3"
  },
  "language_info": {
   "codemirror_mode": {
    "name": "ipython",
    "version": 3
   },
   "file_extension": ".py",
   "mimetype": "text/x-python",
   "name": "python",
   "nbconvert_exporter": "python",
   "pygments_lexer": "ipython3",
   "version": "3.7.13"
  },
  "orig_nbformat": 4
 },
 "nbformat": 4,
 "nbformat_minor": 2
}
