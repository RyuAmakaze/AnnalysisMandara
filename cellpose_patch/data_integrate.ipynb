{
 "cells": [
  {
   "cell_type": "code",
   "execution_count": 11,
   "metadata": {},
   "outputs": [
    {
     "name": "stderr",
     "output_type": "stream",
     "text": [
      " 40%|████      | 10063/25155 [00:00<00:01, 12892.66it/s]\n",
      " 40%|████      | 3364/8408 [00:00<00:00, 12896.14it/s]\n",
      " 40%|████      | 6860/17148 [00:00<00:00, 13077.19it/s]\n",
      " 40%|████      | 8068/20169 [00:00<00:00, 13104.41it/s]\n"
     ]
    }
   ],
   "source": [
    "#複数のデータセットを統合する、とりあえずランダムにまびく\n",
    "\n",
    "New_Dataset_Path = \"Integrated_tuning_cyto1-15pix_cyto2-5pix_32\"\n",
    "Original_Dataset_Paths = [\"crop_data_tuning32\", \"crop_data_cyte1-15pix32\", \"crop_data_cyto2-5pix32\"]\n",
    "copy_percents = [1, 0.4, 0.4] #ランダムコピーする割合\n",
    "days = [\"day0\", \"day3\", \"day5\", \"day7\"]\n",
    "\n",
    "\n",
    "import shutil\n",
    "import os\n",
    "from glob import glob\n",
    "import random\n",
    "from tqdm import tqdm\n",
    "\n",
    "if os.path.exists(New_Dataset_Path)==False:\n",
    "    os.mkdir(New_Dataset_Path)\n",
    "    \n",
    "#originalデータセットごとに\n",
    "for i, Original_Dataset_Path in enumerate(Original_Dataset_Paths):\n",
    "    copy_percent = copy_percents[i]\n",
    "    \n",
    "    #dayフォルダごとに間引いてNewの方にコピーする.\n",
    "    for day in days:\n",
    "        original_day_folder_path = os.path.join(Original_Dataset_Path, day)\n",
    "        save_folder_path = os.path.join(New_Dataset_Path, day)\n",
    "        if os.path.exists(save_folder_path)==False:\n",
    "            os.mkdir(save_folder_path )\n",
    "            \n",
    "        #dayフォルダのファイルに対して\n",
    "        files = glob(original_day_folder_path + \"/*.png\")\n",
    "        \n",
    "        random.shuffle(files)\n",
    "        for i, file in enumerate(tqdm(files)):\n",
    "            if i > len(files)*copy_percent:\n",
    "                break\n",
    "            save_path = os.path.join(save_folder_path , os.path.basename(Original_Dataset_Path)+os.path.basename(file))\n",
    "            shutil.copy2(file, save_path)\n"
   ]
  },
  {
   "cell_type": "code",
   "execution_count": 10,
   "metadata": {},
   "outputs": [
    {
     "name": "stdout",
     "output_type": "stream",
     "text": [
      "crop_data_cyte1-15pix32\n"
     ]
    }
   ],
   "source": [
    "print(os.path.basename(Original_Dataset_Path))"
   ]
  },
  {
   "cell_type": "code",
   "execution_count": null,
   "metadata": {},
   "outputs": [],
   "source": []
  }
 ],
 "metadata": {
  "kernelspec": {
   "display_name": "cell",
   "language": "python",
   "name": "python3"
  },
  "language_info": {
   "codemirror_mode": {
    "name": "ipython",
    "version": 3
   },
   "file_extension": ".py",
   "mimetype": "text/x-python",
   "name": "python",
   "nbconvert_exporter": "python",
   "pygments_lexer": "ipython3",
   "version": "3.7.13"
  },
  "orig_nbformat": 4
 },
 "nbformat": 4,
 "nbformat_minor": 2
}
