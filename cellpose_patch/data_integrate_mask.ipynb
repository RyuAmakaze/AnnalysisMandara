{
 "cells": [
  {
   "cell_type": "code",
   "execution_count": 4,
   "metadata": {},
   "outputs": [
    {
     "name": "stderr",
     "output_type": "stream",
     "text": [
      "0it [00:00, ?it/s]\n",
      "0it [00:00, ?it/s]\n",
      "0it [00:00, ?it/s]\n",
      "0it [00:00, ?it/s]\n",
      "0it [00:00, ?it/s]\n",
      "0it [00:00, ?it/s]\n",
      "0it [00:00, ?it/s]\n",
      "0it [00:00, ?it/s]\n",
      "0it [00:00, ?it/s]\n",
      "0it [00:00, ?it/s]\n",
      "0it [00:00, ?it/s]\n",
      "0it [00:00, ?it/s]\n"
     ]
    }
   ],
   "source": [
    "#複数のデータセットを統合する\n",
    "\n",
    "New_Dataset_Path = \"TEST_Integrated_tuning_cyto1-15pix_cyto2-5pix_32\"\n",
    "Original_Dataset_Paths = [\"crop_test_tuning32\", \"crop_test_cyto-15pix3232\", \"crop_data_cyto2-5pix32\"]\n",
    "#copy_percents = [1, 1, 1] #ランダムコピーする割合\n",
    "days = [\"day0\", \"day3\", \"day5\", \"day7\"]\n",
    "\n",
    "\n",
    "import shutil\n",
    "import os\n",
    "from glob import glob\n",
    "import random\n",
    "from tqdm import tqdm\n",
    "\n",
    "if os.path.exists(New_Dataset_Path)==False:\n",
    "    os.mkdir(New_Dataset_Path)\n",
    "\n",
    "save_imgfolder_path = os.path.join(New_Dataset_Path, \"image\")\n",
    "save_maskfolder_path = os.path.join(New_Dataset_Path, \"mask\")\n",
    "if os.path.exists(save_imgfolder_path)==False:\n",
    "    os.mkdir(save_imgfolder_path)\n",
    "if os.path.exists(save_maskfolder_path)==False:\n",
    "    os.mkdir(save_maskfolder_path)\n",
    "    \n",
    "#originalデータセットごとに\n",
    "for Original_Dataset_Path in Original_Dataset_Paths:\n",
    "    \n",
    "    #dayフォルダごとに間引いてNewの方にコピーする.\n",
    "    for day in days:\n",
    "        original_day_imgfolder_path = os.path.join(Original_Dataset_Path, day, \"image\")\n",
    "        original_day_maskfolder_path = os.path.join(Original_Dataset_Path, day, \"mask\")\n",
    "        \n",
    "        img_day_folder = os.path.join(save_imgfolder_path, day)\n",
    "        mask_day_folder = os.path.join(save_maskfolder_path, day)\n",
    "        if os.path.exists(img_day_folder)==False:\n",
    "            os.mkdir(img_day_folder)\n",
    "        if os.path.exists(mask_day_folder)==False:\n",
    "            os.mkdir(mask_day_folder)                     \n",
    "\n",
    "            \n",
    "        #dayフォルダのファイルに対して\n",
    "        files = glob(original_day_imgfolder_path + \"/*.png\")\n",
    "        maskfiles = glob(original_day_maskfolder_path + \"/*.png\")\n",
    "        \n",
    "        for i, file in enumerate(tqdm(files)):\n",
    "            imgsave_path = os.path.join(img_day_folder, os.path.basename(Original_Dataset_Path)+os.path.basename(file))\n",
    "            masksave_path = os.path.join(mask_day_folder, os.path.basename(Original_Dataset_Path)+os.path.basename(file))\n",
    "            shutil.copy2(file, imgsave_path)\n",
    "            shutil.copy2(maskfiles[i],masksave_path)\n"
   ]
  },
  {
   "cell_type": "code",
   "execution_count": 10,
   "metadata": {},
   "outputs": [
    {
     "name": "stdout",
     "output_type": "stream",
     "text": [
      "crop_data_cyte1-15pix32\n"
     ]
    }
   ],
   "source": [
    "print(os.path.basename(Original_Dataset_Path))"
   ]
  },
  {
   "cell_type": "code",
   "execution_count": null,
   "metadata": {},
   "outputs": [],
   "source": []
  }
 ],
 "metadata": {
  "kernelspec": {
   "display_name": "cell",
   "language": "python",
   "name": "python3"
  },
  "language_info": {
   "codemirror_mode": {
    "name": "ipython",
    "version": 3
   },
   "file_extension": ".py",
   "mimetype": "text/x-python",
   "name": "python",
   "nbconvert_exporter": "python",
   "pygments_lexer": "ipython3",
   "version": "3.7.13"
  },
  "orig_nbformat": 4
 },
 "nbformat": 4,
 "nbformat_minor": 2
}
