{
 "cells": [
  {
   "cell_type": "code",
   "execution_count": 5,
   "metadata": {},
   "outputs": [],
   "source": [
    "#Yu Yamaoka\n",
    "#crop段階でフォルダPathの指定が関数内部で行ってしまっている点に注意．\n",
    "\n",
    "#Parameter Define\n",
    "model_type = 'cyto'#https://github.com/MouseLand/cellpose/blob/main/cellpose/models.py#L19~L20\n",
    "chan = [0,0]#チャンネル https://github.com/MouseLand/cellpose/blob/main/cellpose/models.py#L209"
   ]
  },
  {
   "cell_type": "code",
   "execution_count": 9,
   "metadata": {},
   "outputs": [],
   "source": [
    "#Function Define\n",
    "from cellpose import models, io\n",
    "import matplotlib.pyplot as plt\n",
    "import numpy as np\n",
    "import cv2\n",
    "import os\n",
    "\n",
    "# DEFINE CELLPOSE MODEL\n",
    "# model_type='cyto' or model_type='nuclei'\n",
    "def img_to_cellpose(img_path, model_type= 'cyto', chan=[0,0], min_size=30):\n",
    "    \"\"\"\n",
    "    Input:\n",
    "        img_path : (string) Image file PATH\n",
    "    Return:\n",
    "        mask : [width, height]\n",
    "    \"\"\"\n",
    "    model = models.Cellpose(gpu=False, model_type=model_type)\n",
    "    img = io.imread(img_path)\n",
    "    mask, flows, styles, diams = model.eval(img, diameter=None, channels=chan, min_size=min_size)\n",
    "\n",
    "    # save results so you can load in gui\n",
    "    #io.masks_flows_to_seg(img, masks, flows, diams, img_path, chan)\n",
    "\n",
    "    # save results as png\n",
    "    #plt.imsave(\"test.png\",masks)\n",
    "\n",
    "    return mask\n",
    "\n",
    "#mask画像をMaskRCNNが読み込めるデータセットにする。\n",
    "def obj_detection(mask, class_id:int):\n",
    "    \"\"\"\n",
    "    Input:\n",
    "        mask : [width, height](ndarray), image data\n",
    "        class_id : int , class id(ex : 1day -> 1)\n",
    "    Return:\n",
    "        mask : [width, height, n], n is object num.\n",
    "        cls_idxs : [n(int)]\n",
    "    \"\"\"\n",
    "    data = mask\n",
    "    labels = []\n",
    "    for label in np.unique(data):\n",
    "        #: ラベルID==0は背景\n",
    "        if label == 0:\n",
    "            continue\n",
    "        else:\n",
    "            labels.append(label)\n",
    "\n",
    "    if len(labels) == 0:\n",
    "        #: 対象オブジェクトがない場合はNone\n",
    "        return None, None\n",
    "    else:\n",
    "        mask = np.zeros((mask.shape)+(len(labels),), dtype=np.uint8)\n",
    "        for n, label in enumerate(labels):\n",
    "            mask[:, :, n] = np.uint8(data == label)\n",
    "        cls_idxs = np.ones([mask.shape[-1]], dtype=np.int32) * class_id\n",
    "\n",
    "        return mask, cls_idxs\n",
    "\n",
    "def mask_to_patch(masks, img_path, mask_path, size=64):\n",
    "    \"\"\"\n",
    "    Input:\n",
    "        masks : [n(objnum), width, height], n is object num.\n",
    "        img_path : original image path\n",
    "        mask_path : original image path of annotation mask\n",
    "    Return:\n",
    "        crop_imgs :  [n(objnum), width, height, color]\n",
    "        crop_masks : [n(objnum), width, height, color]\n",
    "    \"\"\"\n",
    "    #各mask-objのBBOXの重心点を求めて切り抜き\n",
    "    img = cv2.imread(img_path)\n",
    "    mask = cv2.imread(mask_path)\n",
    "    width, height, _ = img.shape\n",
    "    crop_imgs = np.zeros((size, size, 3)+(len(masks),), dtype=np.uint8)\n",
    "    crop_masks = np.zeros((size, size, 3)+(len(masks),), dtype=np.uint8)\n",
    "    \n",
    "    #1オブジェクトごとにcropをする\n",
    "    for i in range(len(masks)):\n",
    "        #重心計算\n",
    "        mu = cv2.moments(masks[i], False)\n",
    "        g_height, g_width = int(mu[\"m10\"]/mu[\"m00\"]) , int(mu[\"m01\"]/mu[\"m00\"])\n",
    "        \n",
    "        height_min = g_height - size//2\n",
    "        height_max = g_height + size//2\n",
    "        width_min = g_width - size//2\n",
    "        width_max = g_width + size//2\n",
    "        \n",
    "        #壁際の例外処理\n",
    "        if height_min<0:#配列外アクセスを防ぐ\n",
    "            height_min = 0\n",
    "            height_max= (size//2) * 2\n",
    "        elif height_max>height:#配列外アクセスを防ぐ\n",
    "            height_min = height - ((size//2)  * 2 + 1)\n",
    "            height_max = height - 1\n",
    "    \n",
    "        #壁際の例外処理\n",
    "        if width_min<0:#配列外アクセスを防ぐ\n",
    "            width_min = 0\n",
    "            width_max= (size//2) * 2\n",
    "        elif width_max>width:#配列外アクセスを防ぐ\n",
    "            width_min = width - ((size//2)  * 2 + 1)\n",
    "            width_max = width - 1\n",
    "        \n",
    "        crop_imgs[:, :, :, i] = img[width_min:width_max, height_min:height_max]\n",
    "        crop_masks[:, :, :, i] = mask[width_min:width_max, height_min:height_max]\n",
    "\n",
    "        plt.matshow(mask)\n",
    "        plt.matshow(masks[i])\n",
    "        plt.matshow(img[width_min:width_max, height_min:height_max])\n",
    "\n",
    "    crop_imgs = crop_imgs.transpose(3, 0 , 1, 2)\n",
    "    crop_masks = crop_masks.transpose(3, 0 , 1, 2)\n",
    "\n",
    "    return crop_imgs, crop_masks\n",
    "   "
   ]
  },
  {
   "cell_type": "code",
   "execution_count": 7,
   "metadata": {},
   "outputs": [
    {
     "name": "stderr",
     "output_type": "stream",
     "text": [
      "  4%|▍         | 5/117 [00:27<10:17,  5.51s/it]\n"
     ]
    },
    {
     "ename": "IndexError",
     "evalue": "list index out of range",
     "output_type": "error",
     "traceback": [
      "\u001b[0;31m---------------------------------------------------------------------------\u001b[0m",
      "\u001b[0;31mIndexError\u001b[0m                                Traceback (most recent call last)",
      "\u001b[0;32m<ipython-input-7-b95fdf6b1045>\u001b[0m in \u001b[0;36m<module>\u001b[0;34m\u001b[0m\n\u001b[1;32m     39\u001b[0m \u001b[0;34m\u001b[0m\u001b[0m\n\u001b[1;32m     40\u001b[0m                 \u001b[0msave_path\u001b[0m \u001b[0;34m=\u001b[0m \u001b[0mos\u001b[0m\u001b[0;34m.\u001b[0m\u001b[0mpath\u001b[0m\u001b[0;34m.\u001b[0m\u001b[0mjoin\u001b[0m\u001b[0;34m(\u001b[0m\u001b[0msave_img_folder_path\u001b[0m\u001b[0;34m,\u001b[0m \u001b[0mstr\u001b[0m\u001b[0;34m(\u001b[0m\u001b[0mi\u001b[0m\u001b[0;34m)\u001b[0m \u001b[0;34m+\u001b[0m \u001b[0;34m\"_\"\u001b[0m \u001b[0;34m+\u001b[0m \u001b[0mos\u001b[0m\u001b[0;34m.\u001b[0m\u001b[0mpath\u001b[0m\u001b[0;34m.\u001b[0m\u001b[0mbasename\u001b[0m\u001b[0;34m(\u001b[0m\u001b[0mfile\u001b[0m\u001b[0;34m)\u001b[0m\u001b[0;34m)\u001b[0m\u001b[0;34m\u001b[0m\u001b[0;34m\u001b[0m\u001b[0m\n\u001b[0;32m---> 41\u001b[0;31m                 \u001b[0mmask_save_path\u001b[0m \u001b[0;34m=\u001b[0m \u001b[0mos\u001b[0m\u001b[0;34m.\u001b[0m\u001b[0mpath\u001b[0m\u001b[0;34m.\u001b[0m\u001b[0mjoin\u001b[0m\u001b[0;34m(\u001b[0m\u001b[0msave_mask_folder_path\u001b[0m\u001b[0;34m,\u001b[0m \u001b[0mstr\u001b[0m\u001b[0;34m(\u001b[0m\u001b[0mi\u001b[0m\u001b[0;34m)\u001b[0m \u001b[0;34m+\u001b[0m \u001b[0;34m\"_\"\u001b[0m \u001b[0;34m+\u001b[0m \u001b[0mos\u001b[0m\u001b[0;34m.\u001b[0m\u001b[0mpath\u001b[0m\u001b[0;34m.\u001b[0m\u001b[0mbasename\u001b[0m\u001b[0;34m(\u001b[0m\u001b[0mmaskfiles\u001b[0m\u001b[0;34m[\u001b[0m\u001b[0mi\u001b[0m\u001b[0;34m]\u001b[0m\u001b[0;34m)\u001b[0m\u001b[0;34m)\u001b[0m\u001b[0;34m\u001b[0m\u001b[0;34m\u001b[0m\u001b[0m\n\u001b[0m\u001b[1;32m     42\u001b[0m                 \u001b[0mcv2\u001b[0m\u001b[0;34m.\u001b[0m\u001b[0mimwrite\u001b[0m\u001b[0;34m(\u001b[0m\u001b[0msave_path\u001b[0m\u001b[0;34m,\u001b[0m \u001b[0mcrop_img\u001b[0m\u001b[0;34m)\u001b[0m\u001b[0;34m\u001b[0m\u001b[0;34m\u001b[0m\u001b[0m\n\u001b[1;32m     43\u001b[0m                 \u001b[0mcv2\u001b[0m\u001b[0;34m.\u001b[0m\u001b[0mimwrite\u001b[0m\u001b[0;34m(\u001b[0m\u001b[0mmask_save_path\u001b[0m\u001b[0;34m,\u001b[0m \u001b[0mcrop_masks\u001b[0m\u001b[0;34m[\u001b[0m\u001b[0mi\u001b[0m\u001b[0;34m]\u001b[0m\u001b[0;34m)\u001b[0m\u001b[0;34m\u001b[0m\u001b[0;34m\u001b[0m\u001b[0m\n",
      "\u001b[0;31mIndexError\u001b[0m: list index out of range"
     ]
    }
   ],
   "source": [
    "#main\n",
    "from glob import glob\n",
    "from tqdm import tqdm\n",
    "\n",
    "#Define\n",
    "days = [\"0\", \"3\", \"5\", \"7\"]\n",
    "size = 64\n",
    "save_folder_path = 'crop_test_data'+str(size)\n",
    "dataset_path = \"../data/valid0724_2/\"\n",
    "\n",
    "#make folder\n",
    "if(os.path.exists(save_folder_path)==False):\n",
    "    os.mkdir(save_folder_path)\n",
    "\n",
    "for day in days:\n",
    "    files = glob(dataset_path+str(day)+\"day/image/*.png\")\n",
    "    maskfiles = glob(dataset_path+str(day)+\"day/mask/*.png\")\n",
    "    for i, file in enumerate(tqdm(files)):\n",
    "        test_path = file\n",
    "        mask = img_to_cellpose(test_path, model_type, chan)\n",
    "        masks, labels = obj_detection(mask, 1)\n",
    "        \n",
    "        if (len(labels)==0):\n",
    "            print(file, \" is not object\")\n",
    "            break\n",
    "        \n",
    "        else:\n",
    "            mask_trans = masks.transpose(2, 0 ,1)\n",
    "            crop_imgs, crop_masks = mask_to_patch(mask_trans, test_path, maskfiles[i], size=64)\n",
    "            \n",
    "            #save\n",
    "            for j, crop_img in enumerate(crop_imgs):\n",
    "                save_img_folder_path = os.path.join(save_folder_path, \"image\", \"day\"+str(day))\n",
    "                save_mask_folder_path = os.path.join(save_folder_path, \"mask\", \"day\"+str(day))\n",
    "                if(os.path.exists(save_img_folder_path)==False):\n",
    "                    os.mkdir(save_img_folder_path)\n",
    "                if(os.path.exists(save_mask_folder_path)==False):\n",
    "                    os.mkdir(save_mask_folder_path)\n",
    "                    \n",
    "                save_path = os.path.join(save_img_folder_path, str(j) + \"_\" + os.path.basename(file))\n",
    "                mask_save_path = os.path.join(save_mask_folder_path, str(j) + \"_\" + os.path.basename(maskfiles[i]))\n",
    "                cv2.imwrite(save_path, crop_img)\n",
    "                cv2.imwrite(mask_save_path, crop_masks[j])\n"
   ]
  },
  {
   "attachments": {},
   "cell_type": "markdown",
   "metadata": {},
   "source": [
    "デバッグ"
   ]
  },
  {
   "cell_type": "code",
   "execution_count": 8,
   "metadata": {},
   "outputs": [],
   "source": [
    "path = \"/a/yu-yamaoka/data/valid0724_2/0day/image/0CTX day0.png\"\n",
    "mask_path = \"/a/yu-yamaoka/data/valid0724_2/0day/mask/0CTX day0.png\"\n",
    "mask = img_to_cellpose(path, model_type, chan)\n",
    "masks, _ = obj_detection(mask, 1)\n",
    "mask_trans = masks.transpose(2, 0 ,1)\n"
   ]
  },
  {
   "cell_type": "code",
   "execution_count": 10,
   "metadata": {},
   "outputs": [
    {
     "data": {
      "image/png": "[encoded data removed]",
      "text/plain": [
       "<Figure size 288x288 with 1 Axes>"
      ]
     },
     "metadata": {
      "needs_background": "light"
     },
     "output_type": "display_data"
    },
    {
     "data": {
      "image/png": "[encoded data removed]",
      "text/plain": [
       "<Figure size 288x288 with 1 Axes>"
      ]
     },
     "metadata": {
      "needs_background": "light"
     },
     "output_type": "display_data"
    },
    {
     "data": {
      "image/png": "[encoded data removed]",
      "text/plain": [
       "<Figure size 288x288 with 1 Axes>"
      ]
     },
     "metadata": {
      "needs_background": "light"
     },
     "output_type": "display_data"
    }
   ],
   "source": [
    "crop_imgs, crop_masks = mask_to_patch(mask_trans, test_path, mask_path, size=64)"
   ]
  },
  {
   "cell_type": "code",
   "execution_count": null,
   "metadata": {},
   "outputs": [],
   "source": []
  }
 ],
 "metadata": {
  "kernelspec": {
   "display_name": "cell",
   "language": "python",
   "name": "python3"
  },
  "language_info": {
   "codemirror_mode": {
    "name": "ipython",
    "version": 3
   },
   "file_extension": ".py",
   "mimetype": "text/x-python",
   "name": "python",
   "nbconvert_exporter": "python",
   "pygments_lexer": "ipython3",
   "version": "3.7.13"
  },
  "orig_nbformat": 4,
  "vscode": {
   "interpreter": {
    "hash": "85aab78b62a0b0b7bea0a736b87cc2157e17da06611f44e6d8d7fe8688685325"
   }
  }
 },
 "nbformat": 4,
 "nbformat_minor": 2
}
