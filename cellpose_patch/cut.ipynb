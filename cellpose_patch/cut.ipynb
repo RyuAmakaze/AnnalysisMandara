{
 "cells": [
  {
   "cell_type": "code",
   "execution_count": 12,
   "metadata": {},
   "outputs": [],
   "source": [
    "from PIL import Image\n",
    "import os\n",
    "import cv2\n",
    "import numpy as np\n",
    "\n",
    "def cut_png(img_path):\n",
    "    #切り出し画像サイズ\n",
    "    y0 = 256\n",
    "    x0 = 256 \n",
    "    \n",
    "    #画像読み出し\n",
    "    filename = os.path.basename(img_path)\n",
    "    image = cv2.imread(img_path) \n",
    "    \n",
    "    #画像分割数を計算\n",
    "    h, w = image.shape[:2]\n",
    "    yn = round(w/x0)\n",
    "    xn = round(h/y0)\n",
    "    \n",
    "    # 分割した画像を内包表記でリスト化\n",
    "    c = [image[x0*x:x0*(x+1), y0*y:y0*(y+1)] for x in range(xn) for y in range(yn)]\n",
    "    \n",
    "    folder_path = os.path.dirname, os.path.basename(img_path.replace(\".png\", \"\").replace(\"CTX \", \"\"))\n",
    "    if(os.path.exists(folder_path)== False):\n",
    "        os.mkdir(folder_path)\n",
    "    print(folder_path)\n",
    "        \n",
    "    \n",
    "    # c のリストから1つづつ取り出して保存\n",
    "    for i, img in enumerate(c):\n",
    "        cut_h, cut_w = img.shape[:2]\n",
    "        if (cut_h==y0)and(cut_w==x0):\n",
    "            cv2.imwrite(os.path.join(folder_path, str(i) + filename), img)"
   ]
  },
  {
   "cell_type": "code",
   "execution_count": 13,
   "metadata": {
    "scrolled": true
   },
   "outputs": [
    {
     "name": "stdout",
     "output_type": "stream",
     "text": [
      "CTX day0\n",
      "CTX day11\n",
      "CTX day14\n",
      "CTX day3\n",
      "CTX day5\n",
      "CTX day7\n"
     ]
    }
   ],
   "source": [
    "import glob\n",
    "files = glob.glob(\"./mask/*.png\")\n",
    "for file in files:\n",
    "    cut_png(file)"
   ]
  },
  {
   "cell_type": "code",
   "execution_count": null,
   "metadata": {},
   "outputs": [],
   "source": []
  }
 ],
 "metadata": {
  "interpreter": {
   "hash": "85aab78b62a0b0b7bea0a736b87cc2157e17da06611f44e6d8d7fe8688685325"
  },
  "kernelspec": {
   "display_name": "Python 3 (ipykernel)",
   "language": "python",
   "name": "python3"
  },
  "language_info": {
   "codemirror_mode": {
    "name": "ipython",
    "version": 3
   },
   "file_extension": ".py",
   "mimetype": "text/x-python",
   "name": "python",
   "nbconvert_exporter": "python",
   "pygments_lexer": "ipython3",
   "version": "3.7.13"
  }
 },
 "nbformat": 4,
 "nbformat_minor": 2
}
