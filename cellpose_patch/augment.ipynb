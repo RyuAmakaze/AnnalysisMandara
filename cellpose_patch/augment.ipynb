{
 "cells": [
  {
   "cell_type": "code",
   "execution_count": 28,
   "metadata": {},
   "outputs": [
    {
     "name": "stderr",
     "output_type": "stream",
     "text": [
      "/a/yu-yamaoka/anaconda3/envs/cell/lib/python3.7/site-packages/albumentations/augmentations/transforms.py:1260: FutureWarning: This class has been deprecated. Please use RandomBrightnessContrast\n",
      "  FutureWarning,\n",
      "/a/yu-yamaoka/anaconda3/envs/cell/lib/python3.7/site-packages/albumentations/augmentations/transforms.py:1286: FutureWarning: RandomContrast has been deprecated. Please use RandomBrightnessContrast\n",
      "  FutureWarning,\n"
     ]
    }
   ],
   "source": [
    "import albumentations as A\n",
    "import cv2\n",
    "\n",
    "# Declare an augmentation pipeline\n",
    "transform0 = A.Compose([\n",
    "    A.RandomBrightnessContrast(p=1)\n",
    "])\n",
    "\n",
    "transform1 = A.Compose([\n",
    "    A.RandomBrightness(p=1)\n",
    "])\n",
    "\n",
    "transform2 = A.Compose([\n",
    "    A.RandomContrast(p=1)\n",
    "])\n",
    "\n",
    "transform3 = A.Compose([\n",
    "    A.RandomGamma(p=1)\n",
    "])\n",
    "\n",
    "transformALL = A.Compose([\n",
    "    A.RandomBrightnessContrast(p=0.5),\n",
    "    A.RandomBrightness(p=0.5),\n",
    "    A.RandomContrast(p=0.6),\n",
    "    A.RandomGamma(p=0.5)\n",
    "])\n",
    "\n",
    "#関数定義\n",
    "def aug(img_path):\n",
    "    image = cv2.imread(img_path)\n",
    "    image = cv2.cvtColor(image, cv2.COLOR_BGR2RGB)\n",
    "    \n",
    "    # Augment an image\n",
    "    transformed = transformALL(image=image)\n",
    "    transformed[\"image\"] = cv2.cvtColor(transformed[\"image\"], cv2.COLOR_RGB2BGR)\n",
    "\n",
    "    return transformed[\"image\"]\n",
    "\n",
    "def Augment_ByRotationMirror(ImageFilePath, filetype = \".png\"):\n",
    "        #every 90 degree rotation * mirror = 4 times * 2times = 8times(MAX)\n",
    "        img = cv2.imread(ImageFilePath)\n",
    "        width, height, _ = img.shape\n",
    "        \n",
    "        #Mirror\n",
    "        mirror_img = cv2.flip(img, 1)\n",
    "        cv2.imwrite(ImageFilePath.replace(filetype,\"\") + \"_mirror\" + filetype, mirror_img)\n",
    "        \n",
    "        #If width and height is NOT equal, can't do aug by 90 and 270 rot.  \n",
    "        img_180 = cv2.rotate(img, cv2.ROTATE_180)\n",
    "        cv2.imwrite(ImageFilePath.replace(filetype,\"\")+\"_180\" + filetype, img_180)\n",
    "        cv2.imwrite(ImageFilePath.replace(filetype,\"\") + \"_180mirror.png\", cv2.flip(img_180, 1))\n",
    "        \n",
    "        if(width == height):\n",
    "                img_90 = cv2.rotate(img, cv2.ROTATE_90_CLOCKWISE)\n",
    "                cv2.imwrite(ImageFilePath.replace(filetype,\"\")+\"_90\" + filetype, img_90)\n",
    "                cv2.imwrite(ImageFilePath.replace(filetype,\"\") + \"_90mirror\" + filetype, cv2.flip(img_90, 1))\n",
    "\n",
    "                img_270 = cv2.rotate(img, cv2.ROTATE_90_COUNTERCLOCKWISE)\n",
    "                cv2.imwrite(ImageFilePath.replace(filetype,\"\")+\"_270\" + filetype, img_270)\n",
    "                cv2.imwrite(ImageFilePath.replace(filetype,\"\") + \"_270mirror\" + filetype, cv2.flip(img_270, 1))\n"
   ]
  },
  {
   "attachments": {},
   "cell_type": "markdown",
   "metadata": {},
   "source": [
    "鏡像回転を先に？"
   ]
  },
  {
   "cell_type": "code",
   "execution_count": null,
   "metadata": {},
   "outputs": [],
   "source": [
    "#main\n",
    "from glob import glob\n",
    "from tqdm import tqdm\n",
    "import cv2\n",
    "\n",
    "DATASETE_PATH = \"Crop_Data/256_TRAIN_AUG/image/\"\n",
    "\n",
    "folders = glob(DATASETE_PATH + \"*\")\n",
    "for folder in folders:\n",
    "    files = glob(folder + \"/*.png\")\n",
    "    for file in tqdm(files):\n",
    "        Augment_ByRotationMirror(file)"
   ]
  },
  {
   "attachments": {},
   "cell_type": "markdown",
   "metadata": {},
   "source": [
    "光学系データ拡張"
   ]
  },
  {
   "cell_type": "code",
   "execution_count": 27,
   "metadata": {},
   "outputs": [],
   "source": [
    "#main\n",
    "from glob import glob\n",
    "from tqdm import tqdm\n",
    "import cv2\n",
    "\n",
    "DATASETE_PATH = \"Crop_Data/256_TRAIN_AUG/image/\"\n",
    "\n",
    "folders = glob(DATASETE_PATH + \"*\")\n",
    "for folder in folders:\n",
    "    files = glob(folder + \"/*.png\")\n",
    "    for file in files:\n",
    "        aug_img = aug(file)\n",
    "        cv2.imwrite(file.replace(\".png\", \"_aug.png\"), aug_img)"
   ]
  },
  {
   "attachments": {},
   "cell_type": "markdown",
   "metadata": {},
   "source": [
    "TEST"
   ]
  },
  {
   "cell_type": "code",
   "execution_count": 26,
   "metadata": {},
   "outputs": [
    {
     "data": {
      "text/plain": [
       "True"
      ]
     },
     "execution_count": 26,
     "metadata": {},
     "output_type": "execute_result"
    }
   ],
   "source": [
    "file = \"4No2(L) ctx0day.tif.png_change.pngcolor_change.png\"\n",
    "aug_img = aug(file)\n",
    "cv2.imwrite(file.replace(\".png\", \"_aug.png\"), aug_img)"
   ]
  },
  {
   "cell_type": "code",
   "execution_count": null,
   "metadata": {},
   "outputs": [],
   "source": []
  }
 ],
 "metadata": {
  "kernelspec": {
   "display_name": "cell",
   "language": "python",
   "name": "python3"
  },
  "language_info": {
   "codemirror_mode": {
    "name": "ipython",
    "version": 3
   },
   "file_extension": ".py",
   "mimetype": "text/x-python",
   "name": "python",
   "nbconvert_exporter": "python",
   "pygments_lexer": "ipython3",
   "version": "3.7.13"
  },
  "orig_nbformat": 4
 },
 "nbformat": 4,
 "nbformat_minor": 2
}
