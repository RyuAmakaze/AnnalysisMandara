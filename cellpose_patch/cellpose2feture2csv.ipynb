{
 "cells": [
  {
   "cell_type": "code",
   "execution_count": 4,
   "metadata": {},
   "outputs": [],
   "source": [
    "#Yu Yamaoka\n",
    "#crop段階でフォルダPathの指定が関数内部で行ってしまっている点に注意．\n",
    "\n",
    "#Function Define\n",
    "from cellpose import models, io\n",
    "import matplotlib.pyplot as plt\n",
    "import numpy as np\n",
    "import cv2\n",
    "import os\n",
    "\n",
    "# DEFINE CELLPOSE MODEL\n",
    "# model_type='cyto' or model_type='nuclei'\n",
    "def img_to_cellpose(img_path, model_type= 'cyto', chan=[0,0], min_size=40, gpu_enabled = True, model_path = \"\"):\n",
    "    \"\"\"\n",
    "    Input:\n",
    "        img_path : (string) Image file PATH\n",
    "    Return:\n",
    "        mask : [width, height]\n",
    "    Args:\n",
    "        model_type : https://github.com/MouseLand/cellpose/blob/main/cellpose/models.py#L19~L20\n",
    "        chan : https://github.com/MouseLand/cellpose/blob/main/cellpose/models.py#L209\n",
    "        min_size : https://github.com/MouseLand/cellpose/blob/main/cellpose/models.py#L175\n",
    "        gpu_enabled : Are u install cuda?\n",
    "        model_path : FineTuning model Path(most priority)\n",
    "    \"\"\"\n",
    "    assert os.path.exists(img_path), (\"image path is NOT exist\")\n",
    "    img = io.imread(img_path)\n",
    "    \n",
    "    # declare model\n",
    "    if model_path != \"\":\n",
    "        assert os.path.exists(model_path), (\"model path is NOT exist\")\n",
    "        model = models.CellposeModel(gpu=gpu_enabled, pretrained_model=model_path)\n",
    "        mask, _, _ = model.eval(img, diameter=None, channels=chan, min_size=min_size)\n",
    "    else:\n",
    "        model = models.Cellpose(gpu=gpu_enabled, model_type=model_type)\n",
    "        mask, flows, styles, diams = model.eval(img, diameter=None, channels=chan, min_size=min_size)\n",
    "\n",
    "    # save results so you can load in gui\n",
    "    #io.masks_flows_to_seg(img, masks, flows, diams, img_path, chan)\n",
    "\n",
    "    #save results as png\n",
    "    #plt.imsave(img_path.replace(\".png\",\"CellposeMask.png\"),masks)\n",
    "    return mask\n",
    "\n",
    "#mask画像をMaskRCNNが読み込めるデータセットにする。\n",
    "def obj_detection(mask, class_id:int):\n",
    "    \"\"\"\n",
    "    Input:\n",
    "        mask : [width, height](ndarray), image data\n",
    "        class_id : int , class id(ex : 1day -> 1)\n",
    "    Return:\n",
    "        mask : [width, height, n], n is object num.\n",
    "        cls_idxs : [n(int)]\n",
    "    \"\"\"\n",
    "    data = mask\n",
    "    labels = []\n",
    "    for label in np.unique(data):\n",
    "        #: ラベルID==0は背景\n",
    "        if label == 0:\n",
    "            continue\n",
    "        else:\n",
    "            labels.append(label)\n",
    "\n",
    "    if len(labels) == 0:\n",
    "        #: 対象オブジェクトがない場合はNone\n",
    "        return None, None\n",
    "    else:\n",
    "        mask = np.zeros((mask.shape)+(len(labels),), dtype=np.uint8)\n",
    "        for n, label in enumerate(labels):\n",
    "            mask[:, :, n] = np.uint8(data == label)\n",
    "        cls_idxs = np.ones([mask.shape[-1]], dtype=np.int32) * class_id\n",
    "\n",
    "        return mask, cls_idxs\n",
    "\n",
    "def mask_to_patch(masks, img_path, size=64):\n",
    "    \"\"\"\n",
    "    Input:\n",
    "        masks : [n(objnum), width, height], n is object num.\n",
    "        img_path : original image path of mask\n",
    "    Return:\n",
    "        crop_imgs :  [n(objnum), width, height, color]\n",
    "        positions : [n, 4] 切り取った画像の座標[n, (height_min, height_max, width_min, width_max)]\n",
    "    \"\"\"\n",
    "    #各mask-objのBBOXの重心点を求めて切り抜き\n",
    "    img = cv2.imread(img_path)\n",
    "    width, height, _ = img.shape\n",
    "    crop_imgs = np.zeros((size, size, 3)+(len(masks),), dtype=np.uint8)\n",
    "    positions = np.zeros((len(masks), 4), dtype=np.uint8)\n",
    "    \n",
    "    #1オブジェクトごとにcropをする\n",
    "    for i in range(len(masks)):\n",
    "        #重心計算\n",
    "        mu = cv2.moments(masks[i], False)\n",
    "        g_height, g_width = int(mu[\"m10\"]/mu[\"m00\"]) , int(mu[\"m01\"]/mu[\"m00\"])\n",
    "        \n",
    "        height_min = g_height - size//2\n",
    "        height_max = g_height + size//2\n",
    "        width_min = g_width - size//2\n",
    "        width_max = g_width + size//2\n",
    "        \n",
    "        #壁際の例外処理\n",
    "        if height_min<0:#配列外アクセスを防ぐ\n",
    "            height_min = 0\n",
    "            height_max= (size//2) * 2\n",
    "        elif height_max>height:#配列外アクセスを防ぐ\n",
    "            height_min = height - ((size//2)  * 2 + 1)\n",
    "            height_max = height - 1\n",
    "    \n",
    "        #壁際の例外処理\n",
    "        if width_min<0:#配列外アクセスを防ぐ\n",
    "            width_min = 0\n",
    "            width_max= (size//2) * 2\n",
    "        elif width_max>width:#配列外アクセスを防ぐ\n",
    "            width_min = width - ((size//2)  * 2 + 1)\n",
    "            width_max = width - 1\n",
    "        \n",
    "        crop_imgs[:, :, :, i] = img[width_min:width_max, height_min:height_max]\n",
    "        positions[i] = [height_min, height_max, width_min, width_max]\n",
    "\n",
    "    crop_imgs = crop_imgs.transpose(3, 0 , 1, 2)\n",
    "    return crop_imgs, positions\n",
    "\n",
    "\n",
    "\n",
    "from turtle import onrelease\n",
    "import cv2\n",
    "import matplotlib.pyplot as plt\n",
    "import numpy as np\n",
    "import feret\n",
    "\n",
    "def Compute_CellFeature(onemask):\n",
    "    \"\"\"\n",
    "    Args:\n",
    "        onemask : [width, height]\n",
    "    Return:\n",
    "        feature : [](area, length, circularity)\n",
    "    \"\"\"\n",
    "    #白い領域の割合計算(0~1)\n",
    "    w, h = onemask.shape\n",
    "    #white_area = cv2.countNonZero(onemask)\n",
    "    \n",
    "    #Compute area, len, cir\n",
    "    contours, _ = cv2.findContours(onemask, cv2.RETR_TREE, cv2.CHAIN_APPROX_NONE) \n",
    "    area = cv2.contourArea(contours[0], True)\n",
    "    length = cv2.arcLength(contours[0], True)\n",
    "\n",
    "    try:\n",
    "        circularity = 4*np.pi*area/length/length\n",
    "    except:\n",
    "        circularity = 0\n",
    "        print(length)\n",
    "        print(\"length is 0\")\n",
    "    \n",
    "    #Compute feret\n",
    "    maxf, minf, minf90, maxf90 = feret.all(onemask)\n",
    "    feret_ratio = maxf/minf\n",
    "\n",
    "    return [abs(area), abs(length), abs(circularity), maxf,minf, minf90, minf90, maxf90, feret_ratio]\n"
   ]
  },
  {
   "cell_type": "code",
   "execution_count": 6,
   "metadata": {},
   "outputs": [
    {
     "name": "stderr",
     "output_type": "stream",
     "text": [
      "  1%|▏         | 2/136 [00:01<01:22,  1.62it/s]/a/yu-yamaoka/anaconda3/envs/cell/lib/python3.7/site-packages/numpy/core/fromnumeric.py:3441: RuntimeWarning: Mean of empty slice.\n",
      "  out=out, **kwargs)\n",
      "/a/yu-yamaoka/anaconda3/envs/cell/lib/python3.7/site-packages/numpy/core/_methods.py:189: RuntimeWarning: invalid value encountered in double_scalars\n",
      "  ret = ret.dtype.type(ret / rcount)\n",
      "  2%|▏         | 3/136 [00:01<01:15,  1.77it/s]"
     ]
    },
    {
     "name": "stdout",
     "output_type": "stream",
     "text": [
      "./picture/0day_No3L_220424.tif.png/10.png\n"
     ]
    },
    {
     "name": "stderr",
     "output_type": "stream",
     "text": [
      "  3%|▎         | 4/136 [00:02<01:11,  1.84it/s]"
     ]
    },
    {
     "name": "stdout",
     "output_type": "stream",
     "text": [
      "./picture/0day_No3L_220424.tif.png/11.png\n"
     ]
    },
    {
     "name": "stderr",
     "output_type": "stream",
     "text": [
      "  7%|▋         | 10/136 [00:05<01:16,  1.64it/s]"
     ]
    },
    {
     "name": "stdout",
     "output_type": "stream",
     "text": [
      "./picture/0day_No3L_220424.tif.png/17.png\n"
     ]
    },
    {
     "name": "stderr",
     "output_type": "stream",
     "text": [
      " 12%|█▏        | 16/136 [00:09<01:13,  1.63it/s]"
     ]
    },
    {
     "name": "stdout",
     "output_type": "stream",
     "text": [
      "./picture/0day_No3L_220424.tif.png/23.png\n"
     ]
    },
    {
     "name": "stderr",
     "output_type": "stream",
     "text": [
      " 12%|█▎        | 17/136 [00:10<01:09,  1.72it/s]"
     ]
    },
    {
     "name": "stdout",
     "output_type": "stream",
     "text": [
      "./picture/0day_No3L_220424.tif.png/24.png\n"
     ]
    },
    {
     "name": "stderr",
     "output_type": "stream",
     "text": [
      " 14%|█▍        | 19/136 [00:11<01:06,  1.76it/s]"
     ]
    },
    {
     "name": "stdout",
     "output_type": "stream",
     "text": [
      "./picture/0day_No3L_220424.tif.png/26.png\n"
     ]
    },
    {
     "name": "stderr",
     "output_type": "stream",
     "text": [
      " 21%|██▏       | 29/136 [00:17<01:00,  1.76it/s]"
     ]
    },
    {
     "name": "stdout",
     "output_type": "stream",
     "text": [
      "./picture/0day_No3L_220424.tif.png/36.png\n"
     ]
    },
    {
     "name": "stderr",
     "output_type": "stream",
     "text": [
      " 29%|██▊       | 39/136 [00:23<00:57,  1.68it/s]"
     ]
    },
    {
     "name": "stdout",
     "output_type": "stream",
     "text": [
      "./picture/0day_No3L_220424.tif.png/46.png\n"
     ]
    },
    {
     "name": "stderr",
     "output_type": "stream",
     "text": [
      " 29%|██▉       | 40/136 [00:24<00:57,  1.68it/s]"
     ]
    },
    {
     "name": "stdout",
     "output_type": "stream",
     "text": [
      "./picture/0day_No3L_220424.tif.png/47.png\n"
     ]
    },
    {
     "name": "stderr",
     "output_type": "stream",
     "text": [
      " 30%|███       | 41/136 [00:24<00:55,  1.71it/s]"
     ]
    },
    {
     "name": "stdout",
     "output_type": "stream",
     "text": [
      "./picture/0day_No3L_220424.tif.png/48.png\n"
     ]
    },
    {
     "name": "stderr",
     "output_type": "stream",
     "text": [
      " 38%|███▊      | 51/136 [00:31<00:51,  1.64it/s]"
     ]
    },
    {
     "name": "stdout",
     "output_type": "stream",
     "text": [
      "./picture/0day_No3L_220424.tif.png/58.png\n"
     ]
    },
    {
     "name": "stderr",
     "output_type": "stream",
     "text": [
      " 39%|███▉      | 53/136 [00:32<00:47,  1.75it/s]"
     ]
    },
    {
     "name": "stdout",
     "output_type": "stream",
     "text": [
      "./picture/0day_No3L_220424.tif.png/60.png\n"
     ]
    },
    {
     "name": "stderr",
     "output_type": "stream",
     "text": [
      " 45%|████▍     | 61/136 [00:37<00:54,  1.38it/s]"
     ]
    },
    {
     "name": "stdout",
     "output_type": "stream",
     "text": [
      "0.0\n",
      "length is 0\n"
     ]
    },
    {
     "name": "stderr",
     "output_type": "stream",
     "text": [
      " 47%|████▋     | 64/136 [00:39<00:44,  1.60it/s]"
     ]
    },
    {
     "name": "stdout",
     "output_type": "stream",
     "text": [
      "./picture/0day_No3L_220424.tif.png/71.png\n"
     ]
    },
    {
     "name": "stderr",
     "output_type": "stream",
     "text": [
      " 48%|████▊     | 65/136 [00:40<00:41,  1.71it/s]"
     ]
    },
    {
     "name": "stdout",
     "output_type": "stream",
     "text": [
      "./picture/0day_No3L_220424.tif.png/72.png\n"
     ]
    },
    {
     "name": "stderr",
     "output_type": "stream",
     "text": [
      " 64%|██████▍   | 87/136 [00:55<00:34,  1.41it/s]"
     ]
    },
    {
     "name": "stdout",
     "output_type": "stream",
     "text": [
      "0.0\n",
      "length is 0\n"
     ]
    },
    {
     "name": "stderr",
     "output_type": "stream",
     "text": [
      " 65%|██████▍   | 88/136 [00:56<00:31,  1.54it/s]"
     ]
    },
    {
     "name": "stdout",
     "output_type": "stream",
     "text": [
      "./picture/0day_No3L_220424.tif.png/95.png\n"
     ]
    },
    {
     "name": "stderr",
     "output_type": "stream",
     "text": [
      " 74%|███████▍  | 101/136 [01:04<00:22,  1.59it/s]"
     ]
    },
    {
     "name": "stdout",
     "output_type": "stream",
     "text": [
      "./picture/0day_No3L_220424.tif.png/108.png\n"
     ]
    },
    {
     "name": "stderr",
     "output_type": "stream",
     "text": [
      " 92%|█████████▏| 125/136 [01:20<00:06,  1.64it/s]"
     ]
    },
    {
     "name": "stdout",
     "output_type": "stream",
     "text": [
      "./picture/0day_No3L_220424.tif.png/132.png\n"
     ]
    },
    {
     "name": "stderr",
     "output_type": "stream",
     "text": [
      " 93%|█████████▎| 126/136 [01:21<00:06,  1.61it/s]"
     ]
    },
    {
     "name": "stdout",
     "output_type": "stream",
     "text": [
      "0.0\n",
      "length is 0\n"
     ]
    },
    {
     "name": "stderr",
     "output_type": "stream",
     "text": [
      " 93%|█████████▎| 127/136 [01:22<00:05,  1.52it/s]"
     ]
    },
    {
     "name": "stdout",
     "output_type": "stream",
     "text": [
      "0.0\n",
      "length is 0\n"
     ]
    },
    {
     "name": "stderr",
     "output_type": "stream",
     "text": [
      " 98%|█████████▊| 133/136 [01:26<00:02,  1.47it/s]WARNING: no mask pixels found\n",
      " 99%|█████████▊| 134/136 [01:26<00:01,  1.62it/s]"
     ]
    },
    {
     "name": "stdout",
     "output_type": "stream",
     "text": [
      "./picture/0day_No3L_220424.tif.png/141.png\n"
     ]
    },
    {
     "name": "stderr",
     "output_type": "stream",
     "text": [
      "100%|██████████| 136/136 [01:28<00:00,  1.54it/s]\n"
     ]
    },
    {
     "name": "stdout",
     "output_type": "stream",
     "text": [
      "cell_num : 2741\n",
      "area_average : 1588.0454213790588\n",
      "length_ave : 158.63466086386765\n"
     ]
    },
    {
     "name": "stderr",
     "output_type": "stream",
     "text": [
      "  1%|          | 1/144 [00:00<01:05,  2.18it/s]"
     ]
    },
    {
     "name": "stdout",
     "output_type": "stream",
     "text": [
      "./picture/0day_No4L_220424.tif.png/0.png\n"
     ]
    },
    {
     "name": "stderr",
     "output_type": "stream",
     "text": [
      "  1%|▏         | 2/144 [00:01<01:18,  1.81it/s]"
     ]
    },
    {
     "name": "stdout",
     "output_type": "stream",
     "text": [
      "./picture/0day_No4L_220424.tif.png/1.png\n"
     ]
    },
    {
     "name": "stderr",
     "output_type": "stream",
     "text": [
      "  2%|▏         | 3/144 [00:01<01:16,  1.85it/s]"
     ]
    },
    {
     "name": "stdout",
     "output_type": "stream",
     "text": [
      "./picture/0day_No4L_220424.tif.png/2.png\n"
     ]
    },
    {
     "name": "stderr",
     "output_type": "stream",
     "text": [
      "  3%|▎         | 4/144 [00:02<01:17,  1.82it/s]"
     ]
    },
    {
     "name": "stdout",
     "output_type": "stream",
     "text": [
      "./picture/0day_No4L_220424.tif.png/3.png\n"
     ]
    },
    {
     "name": "stderr",
     "output_type": "stream",
     "text": [
      "  3%|▎         | 5/144 [00:02<01:16,  1.82it/s]"
     ]
    },
    {
     "name": "stdout",
     "output_type": "stream",
     "text": [
      "./picture/0day_No4L_220424.tif.png/4.png\n"
     ]
    },
    {
     "name": "stderr",
     "output_type": "stream",
     "text": [
      "  4%|▍         | 6/144 [00:03<01:15,  1.84it/s]"
     ]
    },
    {
     "name": "stdout",
     "output_type": "stream",
     "text": [
      "./picture/0day_No4L_220424.tif.png/5.png\n"
     ]
    },
    {
     "name": "stderr",
     "output_type": "stream",
     "text": [
      " 10%|▉         | 14/144 [00:07<01:14,  1.74it/s]"
     ]
    },
    {
     "name": "stdout",
     "output_type": "stream",
     "text": [
      "./picture/0day_No4L_220424.tif.png/13.png\n"
     ]
    },
    {
     "name": "stderr",
     "output_type": "stream",
     "text": [
      " 11%|█         | 16/144 [00:09<01:16,  1.66it/s]"
     ]
    },
    {
     "name": "stdout",
     "output_type": "stream",
     "text": [
      "./picture/0day_No4L_220424.tif.png/15.png\n"
     ]
    },
    {
     "name": "stderr",
     "output_type": "stream",
     "text": [
      " 12%|█▎        | 18/144 [00:10<01:14,  1.70it/s]"
     ]
    },
    {
     "name": "stdout",
     "output_type": "stream",
     "text": [
      "./picture/0day_No4L_220424.tif.png/17.png\n"
     ]
    },
    {
     "name": "stderr",
     "output_type": "stream",
     "text": [
      " 17%|█▋        | 25/144 [00:14<01:14,  1.60it/s]"
     ]
    },
    {
     "name": "stdout",
     "output_type": "stream",
     "text": [
      "./picture/0day_No4L_220424.tif.png/24.png\n"
     ]
    },
    {
     "name": "stderr",
     "output_type": "stream",
     "text": [
      " 19%|█▉        | 27/144 [00:15<01:10,  1.66it/s]"
     ]
    },
    {
     "name": "stdout",
     "output_type": "stream",
     "text": [
      "./picture/0day_No4L_220424.tif.png/26.png\n"
     ]
    },
    {
     "name": "stderr",
     "output_type": "stream",
     "text": [
      " 19%|█▉        | 28/144 [00:16<01:09,  1.68it/s]"
     ]
    },
    {
     "name": "stdout",
     "output_type": "stream",
     "text": [
      "./picture/0day_No4L_220424.tif.png/27.png\n"
     ]
    },
    {
     "name": "stderr",
     "output_type": "stream",
     "text": [
      " 26%|██▌       | 37/144 [00:22<01:07,  1.58it/s]"
     ]
    },
    {
     "name": "stdout",
     "output_type": "stream",
     "text": [
      "./picture/0day_No4L_220424.tif.png/36.png\n"
     ]
    },
    {
     "name": "stderr",
     "output_type": "stream",
     "text": [
      " 34%|███▍      | 49/144 [00:31<01:01,  1.54it/s]"
     ]
    },
    {
     "name": "stdout",
     "output_type": "stream",
     "text": [
      "./picture/0day_No4L_220424.tif.png/48.png\n"
     ]
    },
    {
     "name": "stderr",
     "output_type": "stream",
     "text": [
      " 42%|████▏     | 61/144 [00:39<00:54,  1.52it/s]"
     ]
    },
    {
     "name": "stdout",
     "output_type": "stream",
     "text": [
      "./picture/0day_No4L_220424.tif.png/60.png\n"
     ]
    },
    {
     "name": "stderr",
     "output_type": "stream",
     "text": [
      " 53%|█████▎    | 77/144 [00:50<00:46,  1.44it/s]"
     ]
    },
    {
     "name": "stdout",
     "output_type": "stream",
     "text": [
      "0.0\n",
      "length is 0\n"
     ]
    },
    {
     "name": "stderr",
     "output_type": "stream",
     "text": [
      " 60%|██████    | 87/144 [00:57<00:34,  1.68it/s]"
     ]
    },
    {
     "name": "stdout",
     "output_type": "stream",
     "text": [
      "./picture/0day_No4L_220424.tif.png/86.png\n"
     ]
    },
    {
     "name": "stderr",
     "output_type": "stream",
     "text": [
      " 61%|██████    | 88/144 [00:58<00:32,  1.71it/s]"
     ]
    },
    {
     "name": "stdout",
     "output_type": "stream",
     "text": [
      "./picture/0day_No4L_220424.tif.png/87.png\n"
     ]
    },
    {
     "name": "stderr",
     "output_type": "stream",
     "text": [
      " 63%|██████▎   | 91/144 [01:00<00:31,  1.66it/s]"
     ]
    },
    {
     "name": "stdout",
     "output_type": "stream",
     "text": [
      "./picture/0day_No4L_220424.tif.png/90.png\n"
     ]
    },
    {
     "name": "stderr",
     "output_type": "stream",
     "text": [
      " 67%|██████▋   | 97/144 [01:04<00:32,  1.44it/s]"
     ]
    },
    {
     "name": "stdout",
     "output_type": "stream",
     "text": [
      "./picture/0day_No4L_220424.tif.png/96.png\n"
     ]
    },
    {
     "name": "stderr",
     "output_type": "stream",
     "text": [
      " 68%|██████▊   | 98/144 [01:05<00:30,  1.51it/s]"
     ]
    },
    {
     "name": "stdout",
     "output_type": "stream",
     "text": [
      "./picture/0day_No4L_220424.tif.png/97.png\n"
     ]
    },
    {
     "name": "stderr",
     "output_type": "stream",
     "text": [
      " 69%|██████▉   | 99/144 [01:05<00:28,  1.59it/s]"
     ]
    },
    {
     "name": "stdout",
     "output_type": "stream",
     "text": [
      "./picture/0day_No4L_220424.tif.png/98.png\n"
     ]
    },
    {
     "name": "stderr",
     "output_type": "stream",
     "text": [
      " 69%|██████▉   | 100/144 [01:06<00:27,  1.61it/s]"
     ]
    },
    {
     "name": "stdout",
     "output_type": "stream",
     "text": [
      "./picture/0day_No4L_220424.tif.png/99.png\n"
     ]
    },
    {
     "name": "stderr",
     "output_type": "stream",
     "text": [
      " 70%|███████   | 101/144 [01:06<00:26,  1.65it/s]"
     ]
    },
    {
     "name": "stdout",
     "output_type": "stream",
     "text": [
      "./picture/0day_No4L_220424.tif.png/100.png\n"
     ]
    },
    {
     "name": "stderr",
     "output_type": "stream",
     "text": [
      " 72%|███████▏  | 103/144 [01:08<00:26,  1.56it/s]"
     ]
    },
    {
     "name": "stdout",
     "output_type": "stream",
     "text": [
      "0.0\n",
      "length is 0\n"
     ]
    },
    {
     "name": "stderr",
     "output_type": "stream",
     "text": [
      " 75%|███████▌  | 108/144 [01:12<00:26,  1.37it/s]"
     ]
    }
   ],
   "source": [
    "from tqdm import tqdm\n",
    "from glob import glob\n",
    "import csv\n",
    "\n",
    "folders = glob(\"./picture/*\")\n",
    "\n",
    "for folder in folders:\n",
    "    cell = 0\n",
    "    area = 0\n",
    "    length = 0\n",
    "    \n",
    "    files = glob(folder + \"/*.png\")\n",
    "    \n",
    "    for file in tqdm(files):\n",
    "        try:\n",
    "            masks = img_to_cellpose(file)\n",
    "            masks, ids = obj_detection(masks, 1)#return [width, height, N]\n",
    "            masks = masks.transpose(2, 1, 0)#(x,y,obj番号)→(obj番号,x,y)に転置．\n",
    "            \n",
    "            cell += len(masks)\n",
    "            for mask in masks:\n",
    "                feature = Compute_CellFeature(mask)\n",
    "                area += feature[0]\n",
    "                length += feature[1]\n",
    "        except:\n",
    "            print(file)\n",
    "    \n",
    "    print(\"cell_num : \" + str(cell))\n",
    "    print(\"area_average : \" + str(area/cell))\n",
    "    print(\"length_ave : \" + str(length/cell))\n",
    "    \n",
    "    filename = \"data.csv\"\n",
    "    with open(filename, mode='a', newline='') as file:\n",
    "        writer = csv.writer(file)\n",
    "        writer.writerow([folder] + [cell, area/cell, length/cell])   \n",
    "        "
   ]
  },
  {
   "cell_type": "code",
   "execution_count": null,
   "metadata": {},
   "outputs": [],
   "source": []
  },
  {
   "cell_type": "code",
   "execution_count": null,
   "metadata": {},
   "outputs": [],
   "source": []
  }
 ],
 "metadata": {
  "kernelspec": {
   "display_name": "cell",
   "language": "python",
   "name": "python3"
  },
  "language_info": {
   "codemirror_mode": {
    "name": "ipython",
    "version": 3
   },
   "file_extension": ".py",
   "mimetype": "text/x-python",
   "name": "python",
   "nbconvert_exporter": "python",
   "pygments_lexer": "ipython3",
   "version": "3.7.13"
  },
  "orig_nbformat": 4
 },
 "nbformat": 4,
 "nbformat_minor": 2
}
