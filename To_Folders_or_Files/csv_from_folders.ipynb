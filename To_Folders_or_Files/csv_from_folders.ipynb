{
 "cells": [
  {
   "cell_type": "code",
   "execution_count": 8,
   "id": "7f701e8a",
   "metadata": {},
   "outputs": [],
   "source": [
    "import csv\n",
    "from glob import glob\n",
    "import os\n",
    "import re\n",
    "\n",
    "folders = glob(\"GPR単_GPR房/*\")\n",
    "\n",
    "for folder in folders:\n",
    "    data = []\n",
    "    files = glob(folder + \"/*.png\")\n",
    "    files = sorted(files, key=lambda x:int((re.search(r\"[0-9]+\", x)).group(0)))\n",
    "    for file in files:\n",
    "        data.append(os.path.basename(file))\n",
    "        \n",
    "    with open(os.path.basename(folder)+'.csv', 'w', newline='') as file:\n",
    "        writer = csv.writer(file)\n",
    "        for row in data:\n",
    "            writer.writerow([row])"
   ]
  },
  {
   "cell_type": "code",
   "execution_count": null,
   "id": "fd28e0fe",
   "metadata": {},
   "outputs": [],
   "source": []
  }
 ],
 "metadata": {
  "kernelspec": {
   "display_name": "Python 3 (ipykernel)",
   "language": "python",
   "name": "python3"
  },
  "language_info": {
   "codemirror_mode": {
    "name": "ipython",
    "version": 3
   },
   "file_extension": ".py",
   "mimetype": "text/x-python",
   "name": "python",
   "nbconvert_exporter": "python",
   "pygments_lexer": "ipython3",
   "version": "3.9.7"
  }
 },
 "nbformat": 4,
 "nbformat_minor": 5
}
